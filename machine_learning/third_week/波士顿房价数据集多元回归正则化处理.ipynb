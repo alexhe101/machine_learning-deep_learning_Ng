{
 "cells": [
  {
   "cell_type": "code",
   "execution_count": 177,
   "metadata": {},
   "outputs": [],
   "source": [
    "import pandas as pd\n",
    "import numpy as np\n",
    "import matplotlib.pyplot as plt"
   ]
  },
  {
   "cell_type": "code",
   "execution_count": 178,
   "metadata": {
    "scrolled": true
   },
   "outputs": [
    {
     "name": "stderr",
     "output_type": "stream",
     "text": [
      "D:\\anaconda\\envs\\tensorflow\\lib\\site-packages\\ipykernel_launcher.py:3: FutureWarning: Method .as_matrix will be removed in a future version. Use .values instead.\n",
      "  This is separate from the ipykernel package so we can avoid doing imports until\n"
     ]
    }
   ],
   "source": [
    "#引入数据文件\n",
    "test=pd.read_csv(r\"C:\\Users\\alex\\Desktop\\housing.data\",header=None)\n",
    "test = test.as_matrix()"
   ]
  },
  {
   "cell_type": "code",
   "execution_count": 179,
   "metadata": {},
   "outputs": [],
   "source": [
    "#预处理，转换成array\n",
    "dataset = [row[0].split() for row in test]\n",
    "dataset = np.array(dataset,dtype=float)"
   ]
  },
  {
   "cell_type": "code",
   "execution_count": 180,
   "metadata": {},
   "outputs": [
    {
     "name": "stdout",
     "output_type": "stream",
     "text": [
      "train_set_shape:(354, 13)\n",
      "train_label_shape:(354, 1)\n",
      "testset_shape:(152, 13)\n",
      "test_label_shape:(152, 1)\n"
     ]
    }
   ],
   "source": [
    "#分割训练集和测试集\n",
    "axis0,axis1 = dataset.shape\n",
    "train_set = dataset[:int(0.7*axis0),:13]\n",
    "print(\"train_set_shape:\"+str(train_set.shape))\n",
    "train_label = dataset[:int(0.7*axis0),13].reshape(354,1)\n",
    "print(\"train_label_shape:\"+str(train_label.shape))\n",
    "test_set= dataset[int(0.7*axis0):,:13]\n",
    "print(\"testset_shape:\"+str(test_set.shape))\n",
    "test_label = dataset[int(0.7*axis0):,13].reshape(-1,1)\n",
    "print(\"test_label_shape:\"+str(test_label.shape))"
   ]
  },
  {
   "cell_type": "code",
   "execution_count": 181,
   "metadata": {},
   "outputs": [],
   "source": [
    "#进行均值归一化\n",
    "def standardization(dataset):\n",
    "    mu = np.mean(dataset,axis=0)\n",
    "    sigma = np.std(dataset,axis=0)\n",
    "    return (dataset-mu)/sigma"
   ]
  },
  {
   "cell_type": "code",
   "execution_count": 182,
   "metadata": {},
   "outputs": [],
   "source": [
    "train_set = standardization(train_set)\n",
    "test_set = standardization(test_set)"
   ]
  },
  {
   "cell_type": "code",
   "execution_count": 183,
   "metadata": {},
   "outputs": [
    {
     "name": "stdout",
     "output_type": "stream",
     "text": [
      "(354, 14)\n"
     ]
    }
   ],
   "source": [
    "#构建多元线性回归模型的输入参数\n",
    "tmp = np.ones((train_set.shape[0],1))\n",
    "train_set = np.c_[tmp,train_set]\n",
    "print(train_set.shape)\n",
    "tmp = np.ones((test_set.shape[0],1))\n",
    "test_set = np.c_[tmp,test_set]"
   ]
  },
  {
   "cell_type": "code",
   "execution_count": 221,
   "metadata": {},
   "outputs": [],
   "source": [
    "#计算代价函数\n",
    "def costfunction(x,y,theta,lamdb):\n",
    "    predict_y = np.dot(x,theta)\n",
    "    reg = lamdb*np.sum(np.power(theta[1:],2))\n",
    "    J = (1/(2*x.shape[0]))*(np.sum(np.square(predict_y-y))+reg)\n",
    "    return predict_y,J"
   ]
  },
  {
   "cell_type": "code",
   "execution_count": 237,
   "metadata": {},
   "outputs": [],
   "source": [
    "#初始化参数theta\n",
    "theta = np.random.rand(test_set.shape[1],1)"
   ]
  },
  {
   "cell_type": "code",
   "execution_count": 238,
   "metadata": {},
   "outputs": [
    {
     "name": "stdout",
     "output_type": "stream",
     "text": [
      "167.29663678237793\n"
     ]
    }
   ],
   "source": [
    "predict_y,J = costfunction(test_set,test_label,theta,1)\n",
    "print(J)"
   ]
  },
  {
   "cell_type": "code",
   "execution_count": 239,
   "metadata": {},
   "outputs": [],
   "source": [
    "#单步梯度下降\n",
    "def gradient_decent(x,y,theta,learning_rate,lamdb):\n",
    "    predict_y = np.dot(x,theta)\n",
    "    tmp = theta.copy()\n",
    "    tmp[0]=0\n",
    "    reg=(lamdb/x.shape[0])*tmp\n",
    "    theta = theta-learning_rate*(np.dot(x.T,(predict_y-y))*(1/x.shape[0])+reg)\n",
    "    return theta"
   ]
  },
  {
   "cell_type": "code",
   "execution_count": 240,
   "metadata": {},
   "outputs": [],
   "source": [
    "def accuracy(predict_y,y):\n",
    "    return np.sum(1-np.abs(predict_y-y)/y)/(y.shape[0])"
   ]
  },
  {
   "cell_type": "code",
   "execution_count": 241,
   "metadata": {},
   "outputs": [
    {
     "name": "stdout",
     "output_type": "stream",
     "text": [
      "after0training the train_set losses are 339.6257030365607\n",
      "\n",
      "\n",
      "after0trainging the train_set accuracy are 0.030384417763900787\n",
      "\n",
      "\n",
      "after0training the test_set losses are 167.29663678237793\n",
      "\n",
      "\n",
      "after0trainging the test_set accuracy are 0.05684851858218942\n",
      "after1000training the train_set losses are 180.64294253576716\n",
      "\n",
      "\n",
      "after1000trainging the train_set accuracy are 0.260690795489199\n",
      "\n",
      "\n",
      "after1000training the test_set losses are 74.6528631484947\n",
      "\n",
      "\n",
      "after1000trainging the test_set accuracy are 0.4481522168791394\n",
      "after2000training the train_set losses are 100.39446190596475\n",
      "\n",
      "\n",
      "after2000trainging the train_set accuracy are 0.44752185571638975\n",
      "\n",
      "\n",
      "after2000training the test_set losses are 39.48575117120828\n",
      "\n",
      "\n",
      "after2000trainging the test_set accuracy are 0.6774467476608802\n"
     ]
    }
   ],
   "source": [
    "#进行梯度下降\n",
    "train_losses = []\n",
    "test_losses = []\n",
    "accuracies_train = []\n",
    "accuracies_test  = []\n",
    "for i in range(2500):\n",
    "    train_predict_y,J_train = costfunction(train_set,train_label,theta,1)\n",
    "    test_predict_y,J_test =  costfunction(test_set,test_label,theta,1)\n",
    "    accuracy_trian = accuracy(train_predict_y,train_label)\n",
    "    accuracy_test =  accuracy(test_predict_y,test_label)\n",
    "    theta = gradient_decent(train_set,train_label,theta,0.0003,1)\n",
    "    train_losses.append(J_train)\n",
    "    test_losses.append(J_test)\n",
    "    accuracies_train.append(accuracy_trian)\n",
    "    accuracies_test.append(accuracy_test)\n",
    "    \n",
    "    if(i%1000==0):\n",
    "        print(\"after\"+str(i)+\"training the train_set losses are \"+str(J_train))\n",
    "        print(\"\\n\")\n",
    "        print(\"after\"+str(i)+\"trainging the train_set accuracy are \"+str(accuracy_trian))\n",
    "        print(\"\\n\")\n",
    "        print(\"after\"+str(i)+\"training the test_set losses are \"+str(J_test))\n",
    "        print(\"\\n\")\n",
    "        print(\"after\"+str(i)+\"trainging the test_set accuracy are \"+str(accuracy_test))\n",
    "        \n",
    "        "
   ]
  },
  {
   "cell_type": "code",
   "execution_count": 242,
   "metadata": {},
   "outputs": [
    {
     "name": "stdout",
     "output_type": "stream",
     "text": [
      "[[13.48265853]\n",
      " [ 0.30808482]\n",
      " [ 0.56344063]\n",
      " [-0.33635497]\n",
      " [ 0.54773037]\n",
      " [ 0.07545536]\n",
      " [ 3.28115737]\n",
      " [-0.10333605]\n",
      " [ 0.16015546]\n",
      " [ 0.67799571]\n",
      " [-0.69985624]\n",
      " [-1.22602841]\n",
      " [ 0.66175602]\n",
      " [-1.66423909]]\n"
     ]
    }
   ],
   "source": [
    "print(theta)"
   ]
  },
  {
   "cell_type": "code",
   "execution_count": 243,
   "metadata": {},
   "outputs": [
    {
     "data": {
      "text/plain": [
       "[<matplotlib.lines.Line2D at 0x26b04d5cbe0>]"
      ]
     },
     "execution_count": 243,
     "metadata": {},
     "output_type": "execute_result"
    },
    {
     "data": {
      "image/png": "[encoded data removed]",
      "text/plain": [
       "<Figure size 432x288 with 1 Axes>"
      ]
     },
     "metadata": {
      "needs_background": "light"
     },
     "output_type": "display_data"
    }
   ],
   "source": [
    "plt.plot(train_losses)"
   ]
  },
  {
   "cell_type": "code",
   "execution_count": 244,
   "metadata": {},
   "outputs": [
    {
     "data": {
      "text/plain": [
       "[<matplotlib.lines.Line2D at 0x26b05fa7eb8>]"
      ]
     },
     "execution_count": 244,
     "metadata": {},
     "output_type": "execute_result"
    },
    {
     "data": {
      "image/png": "[encoded data removed]",
      "text/plain": [
       "<Figure size 432x288 with 1 Axes>"
      ]
     },
     "metadata": {
      "needs_background": "light"
     },
     "output_type": "display_data"
    }
   ],
   "source": [
    "plt.plot(accuracies_train)"
   ]
  },
  {
   "cell_type": "code",
   "execution_count": 245,
   "metadata": {},
   "outputs": [
    {
     "data": {
      "text/plain": [
       "[<matplotlib.lines.Line2D at 0x26b06004c50>]"
      ]
     },
     "execution_count": 245,
     "metadata": {},
     "output_type": "execute_result"
    },
    {
     "data": {
      "image/png": "[encoded data removed]",
      "text/plain": [
       "<Figure size 432x288 with 1 Axes>"
      ]
     },
     "metadata": {
      "needs_background": "light"
     },
     "output_type": "display_data"
    }
   ],
   "source": [
    "plt.plot(accuracies_test)"
   ]
  },
  {
   "cell_type": "code",
   "execution_count": 246,
   "metadata": {},
   "outputs": [
    {
     "ename": "NameError",
     "evalue": "name 'train_lossess' is not defined",
     "output_type": "error",
     "traceback": [
      "\u001b[1;31m---------------------------------------------------------------------------\u001b[0m",
      "\u001b[1;31mNameError\u001b[0m                                 Traceback (most recent call last)",
      "\u001b[1;32m<ipython-input-246-20fff7481c78>\u001b[0m in \u001b[0;36m<module>\u001b[1;34m\u001b[0m\n\u001b[1;32m----> 1\u001b[1;33m \u001b[0mplt\u001b[0m\u001b[1;33m.\u001b[0m\u001b[0mplot\u001b[0m\u001b[1;33m(\u001b[0m\u001b[0mtrain_lossess\u001b[0m\u001b[1;33m)\u001b[0m\u001b[1;33m\u001b[0m\u001b[1;33m\u001b[0m\u001b[0m\n\u001b[0m",
      "\u001b[1;31mNameError\u001b[0m: name 'train_lossess' is not defined"
     ]
    }
   ],
   "source": [
    "plt.plot(train_lossess)"
   ]
  },
  {
   "cell_type": "code",
   "execution_count": 52,
   "metadata": {},
   "outputs": [
    {
     "ename": "NameError",
     "evalue": "name 'test_lossess' is not defined",
     "output_type": "error",
     "traceback": [
      "\u001b[1;31m---------------------------------------------------------------------------\u001b[0m",
      "\u001b[1;31mNameError\u001b[0m                                 Traceback (most recent call last)",
      "\u001b[1;32m<ipython-input-52-22fadefd14bb>\u001b[0m in \u001b[0;36m<module>\u001b[1;34m\u001b[0m\n\u001b[1;32m----> 1\u001b[1;33m \u001b[0mplt\u001b[0m\u001b[1;33m.\u001b[0m\u001b[0mplot\u001b[0m\u001b[1;33m(\u001b[0m\u001b[0mtest_lossess\u001b[0m\u001b[1;33m)\u001b[0m\u001b[1;33m\u001b[0m\u001b[1;33m\u001b[0m\u001b[0m\n\u001b[0m",
      "\u001b[1;31mNameError\u001b[0m: name 'test_lossess' is not defined"
     ]
    }
   ],
   "source": [
    "plt.plot(test_lossess)"
   ]
  },
  {
   "cell_type": "code",
   "execution_count": null,
   "metadata": {},
   "outputs": [],
   "source": []
  }
 ],
 "metadata": {
  "kernelspec": {
   "display_name": "Python 3",
   "language": "python",
   "name": "python3"
  },
  "language_info": {
   "codemirror_mode": {
    "name": "ipython",
    "version": 3
   },
   "file_extension": ".py",
   "mimetype": "text/x-python",
   "name": "python",
   "nbconvert_exporter": "python",
   "pygments_lexer": "ipython3",
   "version": "3.7.3"
  }
 },
 "nbformat": 4,
 "nbformat_minor": 2
}
