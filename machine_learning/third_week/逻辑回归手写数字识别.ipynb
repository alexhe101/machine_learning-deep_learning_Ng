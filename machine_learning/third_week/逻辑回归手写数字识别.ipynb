{
 "cells": [
  {
   "cell_type": "code",
   "execution_count": 9,
   "metadata": {},
   "outputs": [],
   "source": [
    "#使用多分类的逻辑回归和正则化处理来实现手写数字识别\n",
    "import tensorflow as tf\n",
    "import numpy as np\n",
    "import matplotlib.pyplot as plt"
   ]
  },
  {
   "cell_type": "code",
   "execution_count": 4,
   "metadata": {},
   "outputs": [
    {
     "name": "stdout",
     "output_type": "stream",
     "text": [
      "WARNING:tensorflow:From <ipython-input-4-b77e2c5812e7>:2: read_data_sets (from tensorflow.contrib.learn.python.learn.datasets.mnist) is deprecated and will be removed in a future version.\n",
      "Instructions for updating:\n",
      "Please use alternatives such as official/mnist/dataset.py from tensorflow/models.\n",
      "WARNING:tensorflow:From D:\\anaconda\\envs\\tensorflow\\lib\\site-packages\\tensorflow\\contrib\\learn\\python\\learn\\datasets\\mnist.py:260: maybe_download (from tensorflow.contrib.learn.python.learn.datasets.base) is deprecated and will be removed in a future version.\n",
      "Instructions for updating:\n",
      "Please write your own downloading logic.\n",
      "WARNING:tensorflow:From D:\\anaconda\\envs\\tensorflow\\lib\\site-packages\\tensorflow\\contrib\\learn\\python\\learn\\datasets\\mnist.py:262: extract_images (from tensorflow.contrib.learn.python.learn.datasets.mnist) is deprecated and will be removed in a future version.\n",
      "Instructions for updating:\n",
      "Please use tf.data to implement this functionality.\n",
      "Extracting /mydata/train-images-idx3-ubyte.gz\n",
      "WARNING:tensorflow:From D:\\anaconda\\envs\\tensorflow\\lib\\site-packages\\tensorflow\\contrib\\learn\\python\\learn\\datasets\\mnist.py:267: extract_labels (from tensorflow.contrib.learn.python.learn.datasets.mnist) is deprecated and will be removed in a future version.\n",
      "Instructions for updating:\n",
      "Please use tf.data to implement this functionality.\n",
      "Extracting /mydata/train-labels-idx1-ubyte.gz\n",
      "WARNING:tensorflow:From D:\\anaconda\\envs\\tensorflow\\lib\\site-packages\\tensorflow\\contrib\\learn\\python\\learn\\datasets\\mnist.py:110: dense_to_one_hot (from tensorflow.contrib.learn.python.learn.datasets.mnist) is deprecated and will be removed in a future version.\n",
      "Instructions for updating:\n",
      "Please use tf.one_hot on tensors.\n",
      "Extracting /mydata/t10k-images-idx3-ubyte.gz\n",
      "Extracting /mydata/t10k-labels-idx1-ubyte.gz\n",
      "WARNING:tensorflow:From D:\\anaconda\\envs\\tensorflow\\lib\\site-packages\\tensorflow\\contrib\\learn\\python\\learn\\datasets\\mnist.py:290: DataSet.__init__ (from tensorflow.contrib.learn.python.learn.datasets.mnist) is deprecated and will be removed in a future version.\n",
      "Instructions for updating:\n",
      "Please use alternatives such as official/mnist/dataset.py from tensorflow/models.\n"
     ]
    }
   ],
   "source": [
    "from tensorflow.examples.tutorials.mnist import input_data\n",
    "mnist = input_data.read_data_sets('/mydata/', one_hot=True)#导入mnist数据集"
   ]
  },
  {
   "cell_type": "code",
   "execution_count": 10,
   "metadata": {},
   "outputs": [],
   "source": [
    "#获取原始训练集和标签\n",
    "train_image_ori = mnist.train.images\n",
    "train_label_ori = mnist.train.labels"
   ]
  },
  {
   "cell_type": "code",
   "execution_count": 11,
   "metadata": {},
   "outputs": [
    {
     "name": "stdout",
     "output_type": "stream",
     "text": [
      "(55000, 784)\n",
      "(55000, 10)\n"
     ]
    }
   ],
   "source": [
    "#查看数据维度\n",
    "print(train_image_ori.shape)#55000个训练样本，784个特征\n",
    "print(train_label_ori.shape)#55000个训练样本，10个特征"
   ]
  },
  {
   "cell_type": "code",
   "execution_count": 12,
   "metadata": {},
   "outputs": [
    {
     "name": "stdout",
     "output_type": "stream",
     "text": [
      "(55000, 785)\n"
     ]
    }
   ],
   "source": [
    "#增加样本特征\n",
    "tmp = np.ones((train_image_ori.shape[0],1))\n",
    "train_image = np.c_[tmp,train_image_ori]\n",
    "print(train_image.shape)#55000个训练样本，785个特征"
   ]
  },
  {
   "cell_type": "code",
   "execution_count": 13,
   "metadata": {},
   "outputs": [],
   "source": [
    "#生成十个模型的参数\n",
    "Theta = np.zeros((785,10))"
   ]
  },
  {
   "cell_type": "code",
   "execution_count": 14,
   "metadata": {},
   "outputs": [],
   "source": [
    "train_label = np.zeros((10,55000))\n",
    "#针对每个模型设置标签\n",
    "for j in range(10):\n",
    "    for i in range(train_label_ori.shape[0]):\n",
    "        if(train_label_ori[i][j]!=0.0):\n",
    "            train_label[j][i]=1\n",
    "#其实就是原标签的转置"
   ]
  },
  {
   "cell_type": "code",
   "execution_count": 15,
   "metadata": {},
   "outputs": [],
   "source": [
    "#设置sigmoid函数\n",
    "def sigmoid(x):\n",
    "    return 1/(1+np.exp(-x))"
   ]
  },
  {
   "cell_type": "code",
   "execution_count": 16,
   "metadata": {},
   "outputs": [],
   "source": [
    "#计算损失函数，带正则化\n",
    "def costfunction(x,theta,y,lam):\n",
    "    pre = sigmoid(np.dot(theta.T,x.T))\n",
    "    k = np.log(pre)\n",
    "    costori = np.dot(y,k)+np.dot(1-y,np.log(1-pre))\n",
    "    reg = 0.5*lam*np.sum(np.power(theta[1:],2))\n",
    "    m = x.shape[0]\n",
    "    return pre,(-1/m)*(costori-reg)"
   ]
  },
  {
   "cell_type": "code",
   "execution_count": 17,
   "metadata": {},
   "outputs": [],
   "source": [
    "#进行梯度下降\n",
    "def graident_decent(x,theta,y,pre,lam,learning_rate):\n",
    "    tmp = theta.copy()\n",
    "    tmp[0] = 0\n",
    "    dtheta = (1/x.shape[0])*np.dot((pre-y),x)+(1/x.shape[0])*lam*tmp\n",
    "    theta = theta-learning_rate*dtheta\n",
    "    return theta"
   ]
  },
  {
   "cell_type": "code",
   "execution_count": 18,
   "metadata": {},
   "outputs": [],
   "source": [
    "#引入测试集，并进行数据预处理\n",
    "test_image_ori = mnist.test.images\n",
    "test_label_ori = mnist.test.labels\n",
    "tmp = np.ones((test_image_ori.shape[0],1))\n",
    "test_image = np.c_[tmp,test_image_ori]"
   ]
  },
  {
   "cell_type": "code",
   "execution_count": 19,
   "metadata": {},
   "outputs": [],
   "source": [
    "#将标签转为具体数据\n",
    "idx2 = np.argmax(test_label_ori,axis=1)"
   ]
  },
  {
   "cell_type": "code",
   "execution_count": 20,
   "metadata": {},
   "outputs": [],
   "source": [
    "#计算预测准确率\n",
    "def accuracy(idx,idx2):\n",
    "    slove=(idx==idx2)\n",
    "    return np.sum(slove)/idx.shape[0]"
   ]
  },
  {
   "cell_type": "code",
   "execution_count": 21,
   "metadata": {},
   "outputs": [
    {
     "name": "stdout",
     "output_type": "stream",
     "text": [
      "0\n",
      "1\n",
      "2\n",
      "3\n",
      "4\n",
      "5\n",
      "6\n",
      "7\n",
      "8\n",
      "9\n"
     ]
    }
   ],
   "source": [
    "#进行梯度下降，同时训练十个模型\n",
    "accu = []\n",
    "for j in range(10):\n",
    "    theta = Theta[:,j]\n",
    "    print(j)\n",
    "    for i in range(100):\n",
    "        pre,cost = costfunction(train_image,theta,train_label[j],0.01)\n",
    "        theta = graident_decent(train_image,theta,train_label[j],pre,0.01,0.001)\n",
    "        Theta[:,j]=theta\n",
    "        test_o = np.dot(test_image,Theta)\n",
    "        idx = np.argmax(test_o, axis=1)\n",
    "        accu.append(accuracy(idx,idx2))"
   ]
  },
  {
   "cell_type": "code",
   "execution_count": 22,
   "metadata": {},
   "outputs": [
    {
     "name": "stdout",
     "output_type": "stream",
     "text": [
      "0.7214\n"
     ]
    }
   ],
   "source": [
    "#查看最终结果\n",
    "test_o = np.dot(test_image,Theta)\n",
    "idx = np.argmax(test_o, axis=1)\n",
    "print(np.sum(idx==idx2)/idx.shape[0])"
   ]
  },
  {
   "cell_type": "code",
   "execution_count": 25,
   "metadata": {
    "scrolled": true
   },
   "outputs": [
    {
     "data": {
      "text/plain": [
       "[<matplotlib.lines.Line2D at 0x210266d5c50>]"
      ]
     },
     "execution_count": 25,
     "metadata": {},
     "output_type": "execute_result"
    },
    {
     "data": {
      "image/png": "[encoded data removed]",
      "text/plain": [
       "<Figure size 432x288 with 1 Axes>"
      ]
     },
     "metadata": {
      "needs_background": "light"
     },
     "output_type": "display_data"
    }
   ],
   "source": [
    "#绘图\n",
    "plt.plot(accu)"
   ]
  },
  {
   "cell_type": "code",
   "execution_count": null,
   "metadata": {},
   "outputs": [],
   "source": []
  }
 ],
 "metadata": {
  "kernelspec": {
   "display_name": "Python 3",
   "language": "python",
   "name": "python3"
  },
  "language_info": {
   "codemirror_mode": {
    "name": "ipython",
    "version": 3
   },
   "file_extension": ".py",
   "mimetype": "text/x-python",
   "name": "python",
   "nbconvert_exporter": "python",
   "pygments_lexer": "ipython3",
   "version": "3.7.3"
  }
 },
 "nbformat": 4,
 "nbformat_minor": 2
}
