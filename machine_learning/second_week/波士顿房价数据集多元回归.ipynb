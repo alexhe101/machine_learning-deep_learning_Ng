{
 "cells": [
  {
   "cell_type": "code",
   "execution_count": 700,
   "metadata": {},
   "outputs": [],
   "source": [
    "import pandas as pd\n",
    "import numpy as np\n",
    "import matplotlib.pyplot as plt"
   ]
  },
  {
   "cell_type": "code",
   "execution_count": 701,
   "metadata": {
    "scrolled": true
   },
   "outputs": [
    {
     "name": "stderr",
     "output_type": "stream",
     "text": [
      "D:\\anaconda\\envs\\tensorflow\\lib\\site-packages\\ipykernel_launcher.py:3: FutureWarning: Method .as_matrix will be removed in a future version. Use .values instead.\n",
      "  This is separate from the ipykernel package so we can avoid doing imports until\n"
     ]
    }
   ],
   "source": [
    "#引入数据文件\n",
    "test=pd.read_csv(r\"C:\\Users\\alex\\Desktop\\housing.data\",header=None)\n",
    "test = test.as_matrix()"
   ]
  },
  {
   "cell_type": "code",
   "execution_count": 702,
   "metadata": {},
   "outputs": [],
   "source": [
    "#预处理，转换成array\n",
    "dataset = [row[0].split() for row in test]\n",
    "dataset = np.array(dataset,dtype=float)"
   ]
  },
  {
   "cell_type": "code",
   "execution_count": 703,
   "metadata": {},
   "outputs": [
    {
     "name": "stdout",
     "output_type": "stream",
     "text": [
      "train_set_shape:(354, 13)\n",
      "train_label_shape:(354, 1)\n",
      "testset_shape:(152, 13)\n",
      "test_label_shape:(152, 1)\n"
     ]
    }
   ],
   "source": [
    "#分割训练集和测试集\n",
    "axis0,axis1 = dataset.shape\n",
    "train_set = dataset[:int(0.7*axis0),:13]\n",
    "print(\"train_set_shape:\"+str(train_set.shape))\n",
    "train_label = dataset[:int(0.7*axis0),13].reshape(354,1)\n",
    "print(\"train_label_shape:\"+str(train_label.shape))\n",
    "test_set= dataset[int(0.7*axis0):,:13]\n",
    "print(\"testset_shape:\"+str(test_set.shape))\n",
    "test_label = dataset[int(0.7*axis0):,13].reshape(-1,1)\n",
    "print(\"test_label_shape:\"+str(test_label.shape))"
   ]
  },
  {
   "cell_type": "code",
   "execution_count": 704,
   "metadata": {},
   "outputs": [],
   "source": [
    "#进行均值归一化\n",
    "def standardization(dataset):\n",
    "    mu = np.mean(dataset,axis=0)\n",
    "    sigma = np.std(dataset,axis=0)\n",
    "    return (dataset-mu)/sigma"
   ]
  },
  {
   "cell_type": "code",
   "execution_count": 705,
   "metadata": {},
   "outputs": [],
   "source": [
    "train_set = standardization(train_set)\n",
    "test_set = standardization(test_set)"
   ]
  },
  {
   "cell_type": "code",
   "execution_count": 706,
   "metadata": {},
   "outputs": [
    {
     "name": "stdout",
     "output_type": "stream",
     "text": [
      "(354, 14)\n"
     ]
    }
   ],
   "source": [
    "#构建多元线性回归模型的输入参数\n",
    "tmp = np.ones((train_set.shape[0],1))\n",
    "train_set = np.c_[tmp,train_set]\n",
    "print(train_set.shape)\n",
    "tmp = np.ones((test_set.shape[0],1))\n",
    "test_set = np.c_[tmp,test_set]"
   ]
  },
  {
   "cell_type": "code",
   "execution_count": 707,
   "metadata": {},
   "outputs": [],
   "source": [
    "#计算代价函数\n",
    "def costfunction(x,y,theta):\n",
    "    predict_y = np.dot(x,theta)\n",
    "    J = (1/(2*x.shape[0]))*np.sum(np.square(predict_y-y))\n",
    "    return predict_y,J"
   ]
  },
  {
   "cell_type": "code",
   "execution_count": 708,
   "metadata": {},
   "outputs": [],
   "source": [
    "#初始化参数theta\n",
    "theta = np.random.rand(test_set.shape[1],1)"
   ]
  },
  {
   "cell_type": "code",
   "execution_count": 709,
   "metadata": {},
   "outputs": [
    {
     "name": "stdout",
     "output_type": "stream",
     "text": [
      "168.33629386111855\n"
     ]
    }
   ],
   "source": [
    "predict_y,J = costfunction(test_set,test_label,theta)\n",
    "print(J)"
   ]
  },
  {
   "cell_type": "code",
   "execution_count": 710,
   "metadata": {},
   "outputs": [],
   "source": [
    "#单步梯度下降\n",
    "def gradient_decent(x,y,theta,learning_rate):\n",
    "    predict_y = np.dot(x,theta)\n",
    "    theta = theta-learning_rate*np.dot(x.T,(predict_y-y))*(1/x.shape[0])\n",
    "    return theta"
   ]
  },
  {
   "cell_type": "code",
   "execution_count": 711,
   "metadata": {},
   "outputs": [],
   "source": [
    "def accuracy(predict_y,y):\n",
    "    return np.sum(1-np.abs(predict_y-y)/y)/(y.shape[0])"
   ]
  },
  {
   "cell_type": "code",
   "execution_count": 712,
   "metadata": {},
   "outputs": [
    {
     "name": "stdout",
     "output_type": "stream",
     "text": [
      "after0training the train_set losses are 339.4065152765559\n",
      "\n",
      "\n",
      "after0trainging the train_set accuracy are 0.022189956600826333\n",
      "\n",
      "\n",
      "after0training the test_set losses are 168.33629386111855\n",
      "\n",
      "\n",
      "after0trainging the test_set accuracy are 0.04559632897971913\n",
      "after1000training the train_set losses are 179.89080214200646\n",
      "\n",
      "\n",
      "after1000trainging the train_set accuracy are 0.2536174685156859\n",
      "\n",
      "\n",
      "after1000training the test_set losses are 75.45144770269228\n",
      "\n",
      "\n",
      "after1000trainging the test_set accuracy are 0.4429780272176136\n",
      "after2000training the train_set losses are 99.92302182564516\n",
      "\n",
      "\n",
      "after2000trainging the train_set accuracy are 0.44209709616093584\n",
      "\n",
      "\n",
      "after2000training the test_set losses are 40.27726295970043\n",
      "\n",
      "\n",
      "after2000trainging the test_set accuracy are 0.6722226511655601\n"
     ]
    }
   ],
   "source": [
    "#进行梯度下降\n",
    "train_losses = []\n",
    "test_losses = []\n",
    "accuracies_train = []\n",
    "accuracies_test  = []\n",
    "for i in range(2500):\n",
    "    train_predict_y,J_train = costfunction(train_set,train_label,theta)\n",
    "    test_predict_y,J_test =  costfunction(test_set,test_label,theta)\n",
    "    accuracy_trian = accuracy(train_predict_y,train_label)\n",
    "    accuracy_test =  accuracy(test_predict_y,test_label)\n",
    "    theta = gradient_decent(train_set,train_label,theta,0.0003)\n",
    "    train_losses.append(J_train)\n",
    "    test_losses.append(J_test)\n",
    "    accuracies_train.append(accuracy_trian)\n",
    "    accuracies_test.append(accuracy_test)\n",
    "    \n",
    "    if(i%1000==0):\n",
    "        print(\"after\"+str(i)+\"training the train_set losses are \"+str(J_train))\n",
    "        print(\"\\n\")\n",
    "        print(\"after\"+str(i)+\"trainging the train_set accuracy are \"+str(accuracy_trian))\n",
    "        print(\"\\n\")\n",
    "        print(\"after\"+str(i)+\"training the test_set losses are \"+str(J_test))\n",
    "        print(\"\\n\")\n",
    "        print(\"after\"+str(i)+\"trainging the test_set accuracy are \"+str(accuracy_test))\n",
    "        \n",
    "        "
   ]
  },
  {
   "cell_type": "code",
   "execution_count": 713,
   "metadata": {},
   "outputs": [
    {
     "data": {
      "text/plain": [
       "[<matplotlib.lines.Line2D at 0x1251d03c320>]"
      ]
     },
     "execution_count": 713,
     "metadata": {},
     "output_type": "execute_result"
    },
    {
     "data": {
      "image/png": "[encoded data removed]",
      "text/plain": [
       "<Figure size 432x288 with 1 Axes>"
      ]
     },
     "metadata": {
      "needs_background": "light"
     },
     "output_type": "display_data"
    }
   ],
   "source": [
    "plt.plot(train_losses)"
   ]
  },
  {
   "cell_type": "code",
   "execution_count": 714,
   "metadata": {},
   "outputs": [
    {
     "data": {
      "text/plain": [
       "[<matplotlib.lines.Line2D at 0x1251cffd470>]"
      ]
     },
     "execution_count": 714,
     "metadata": {},
     "output_type": "execute_result"
    },
    {
     "data": {
      "image/png": "[encoded data removed]",
      "text/plain": [
       "<Figure size 432x288 with 1 Axes>"
      ]
     },
     "metadata": {
      "needs_background": "light"
     },
     "output_type": "display_data"
    }
   ],
   "source": [
    "plt.plot(accuracies_train)"
   ]
  },
  {
   "cell_type": "code",
   "execution_count": 715,
   "metadata": {},
   "outputs": [
    {
     "data": {
      "text/plain": [
       "[<matplotlib.lines.Line2D at 0x1251d09a710>]"
      ]
     },
     "execution_count": 715,
     "metadata": {},
     "output_type": "execute_result"
    },
    {
     "data": {
      "image/png": "[encoded data removed]",
      "text/plain": [
       "<Figure size 432x288 with 1 Axes>"
      ]
     },
     "metadata": {
      "needs_background": "light"
     },
     "output_type": "display_data"
    }
   ],
   "source": [
    "plt.plot(accuracies_test)"
   ]
  },
  {
   "cell_type": "code",
   "execution_count": 716,
   "metadata": {},
   "outputs": [
    {
     "data": {
      "text/plain": [
       "[<matplotlib.lines.Line2D at 0x1251d0f6ef0>]"
      ]
     },
     "execution_count": 716,
     "metadata": {},
     "output_type": "execute_result"
    },
    {
     "data": {
      "image/png": "[encoded data removed]",
      "text/plain": [
       "<Figure size 432x288 with 1 Axes>"
      ]
     },
     "metadata": {
      "needs_background": "light"
     },
     "output_type": "display_data"
    }
   ],
   "source": [
    "plt.plot(train_lossess)"
   ]
  },
  {
   "cell_type": "code",
   "execution_count": 717,
   "metadata": {},
   "outputs": [
    {
     "data": {
      "text/plain": [
       "[<matplotlib.lines.Line2D at 0x1251d4fb748>]"
      ]
     },
     "execution_count": 717,
     "metadata": {},
     "output_type": "execute_result"
    },
    {
     "data": {
      "image/png": "[encoded data removed]",
      "text/plain": [
       "<Figure size 432x288 with 1 Axes>"
      ]
     },
     "metadata": {
      "needs_background": "light"
     },
     "output_type": "display_data"
    }
   ],
   "source": [
    "plt.plot(test_lossess)"
   ]
  },
  {
   "cell_type": "code",
   "execution_count": null,
   "metadata": {},
   "outputs": [],
   "source": []
  }
 ],
 "metadata": {
  "kernelspec": {
   "display_name": "Python 3",
   "language": "python",
   "name": "python3"
  },
  "language_info": {
   "codemirror_mode": {
    "name": "ipython",
    "version": 3
   },
   "file_extension": ".py",
   "mimetype": "text/x-python",
   "name": "python",
   "nbconvert_exporter": "python",
   "pygments_lexer": "ipython3",
   "version": "3.7.3"
  }
 },
 "nbformat": 4,
 "nbformat_minor": 2
}
