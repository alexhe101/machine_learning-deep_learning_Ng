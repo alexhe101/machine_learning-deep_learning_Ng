{
 "cells": [
  {
   "cell_type": "code",
   "execution_count": 1,
   "metadata": {},
   "outputs": [],
   "source": [
    "#复现Lenet\n",
    "#将原文中的平均池化改成最大池化 将sigmoid和tanh换成relu 将分类函数换成softmax"
   ]
  },
  {
   "cell_type": "code",
   "execution_count": 2,
   "metadata": {},
   "outputs": [],
   "source": [
    "from tensorflow import keras"
   ]
  },
  {
   "cell_type": "code",
   "execution_count": 3,
   "metadata": {},
   "outputs": [],
   "source": [
    "(train_image,train_label),(test_image,test_label) = keras.datasets.mnist.load_data()"
   ]
  },
  {
   "cell_type": "code",
   "execution_count": 33,
   "metadata": {},
   "outputs": [],
   "source": [
    "class Lenet():\n",
    "    def __init__(self):\n",
    "        self.model = keras.Sequential()\n",
    "        self.model.add(keras.layers.ZeroPadding2D((2,2),input_shape=(28,28,1)))\n",
    "        self.model.add(keras.layers.Conv2D(6,(5,5),activation='relu'))\n",
    "        self.model.add(keras.layers.MaxPooling2D((2,2),strides=(2,2)))\n",
    "        self.model.add(keras.layers.Conv2D(16,(5,5),activation='relu'))\n",
    "        self.model.add(keras.layers.MaxPooling2D((2,2),strides=(2,2)))\n",
    "        self.model.add(keras.layers.Flatten())\n",
    "        self.model.add(keras.layers.Dense(120,activation='relu'))\n",
    "        self.model.add(keras.layers.Dense(84,activation='relu'))\n",
    "        self.model.add(keras.layers.Dense(10,activation='softmax'))\n",
    "        \n",
    "    def info(self):\n",
    "        self.model.summary()\n",
    "    def compiles(self):\n",
    "        self.model.compile(metrics=['accuracy'],optimizer='Adam',loss='sparse_categorical_crossentropy')\n",
    "    def fit(self,train_x,train_y,test_x,test_y):\n",
    "        history=self.model.fit(train_x,train_y,batch_size=64,epochs=5,validation_data=[test_x,test_y])\n",
    "        return history\n",
    "        \n",
    "        "
   ]
  },
  {
   "cell_type": "code",
   "execution_count": 5,
   "metadata": {},
   "outputs": [],
   "source": [
    "train_image = train_image/255"
   ]
  },
  {
   "cell_type": "code",
   "execution_count": 6,
   "metadata": {},
   "outputs": [
    {
     "name": "stdout",
     "output_type": "stream",
     "text": [
      "(60000, 28, 28)\n"
     ]
    }
   ],
   "source": [
    "print(train_image.shape)"
   ]
  },
  {
   "cell_type": "code",
   "execution_count": 7,
   "metadata": {},
   "outputs": [
    {
     "name": "stdout",
     "output_type": "stream",
     "text": [
      "(10000, 28, 28)\n"
     ]
    }
   ],
   "source": [
    "test_image  = test_image/255\n",
    "print(test_image.shape)"
   ]
  },
  {
   "cell_type": "code",
   "execution_count": 8,
   "metadata": {},
   "outputs": [],
   "source": [
    "train_x = train_image.reshape(60000, 28, 28,1)\n",
    "test_x = test_image.reshape(10000,28,28,1)"
   ]
  },
  {
   "cell_type": "code",
   "execution_count": 34,
   "metadata": {},
   "outputs": [],
   "source": [
    "net  = Lenet()"
   ]
  },
  {
   "cell_type": "code",
   "execution_count": 35,
   "metadata": {},
   "outputs": [
    {
     "name": "stdout",
     "output_type": "stream",
     "text": [
      "Model: \"sequential_4\"\n",
      "_________________________________________________________________\n",
      "Layer (type)                 Output Shape              Param #   \n",
      "=================================================================\n",
      "zero_padding2d_4 (ZeroPaddin (None, 32, 32, 1)         0         \n",
      "_________________________________________________________________\n",
      "conv2d_8 (Conv2D)            (None, 28, 28, 6)         156       \n",
      "_________________________________________________________________\n",
      "max_pooling2d_8 (MaxPooling2 (None, 14, 14, 6)         0         \n",
      "_________________________________________________________________\n",
      "conv2d_9 (Conv2D)            (None, 10, 10, 16)        2416      \n",
      "_________________________________________________________________\n",
      "max_pooling2d_9 (MaxPooling2 (None, 5, 5, 16)          0         \n",
      "_________________________________________________________________\n",
      "flatten_4 (Flatten)          (None, 400)               0         \n",
      "_________________________________________________________________\n",
      "dense_12 (Dense)             (None, 120)               48120     \n",
      "_________________________________________________________________\n",
      "dense_13 (Dense)             (None, 84)                10164     \n",
      "_________________________________________________________________\n",
      "dense_14 (Dense)             (None, 10)                850       \n",
      "=================================================================\n",
      "Total params: 61,706\n",
      "Trainable params: 61,706\n",
      "Non-trainable params: 0\n",
      "_________________________________________________________________\n"
     ]
    }
   ],
   "source": [
    "net.info()"
   ]
  },
  {
   "cell_type": "code",
   "execution_count": 36,
   "metadata": {},
   "outputs": [],
   "source": [
    "net.compiles()"
   ]
  },
  {
   "cell_type": "code",
   "execution_count": 37,
   "metadata": {},
   "outputs": [
    {
     "name": "stdout",
     "output_type": "stream",
     "text": [
      "Train on 60000 samples, validate on 10000 samples\n",
      "Epoch 1/5\n",
      "60000/60000 [==============================] - 14s 238us/sample - loss: 0.2018 - accuracy: 0.9387 - val_loss: 0.0746 - val_accuracy: 0.9765\n",
      "Epoch 2/5\n",
      "60000/60000 [==============================] - 15s 254us/sample - loss: 0.0624 - accuracy: 0.9811 - val_loss: 0.0421 - val_accuracy: 0.9855\n",
      "Epoch 3/5\n",
      "60000/60000 [==============================] - 15s 250us/sample - loss: 0.0478 - accuracy: 0.9851 - val_loss: 0.0504 - val_accuracy: 0.9834\n",
      "Epoch 4/5\n",
      "60000/60000 [==============================] - 14s 233us/sample - loss: 0.0372 - accuracy: 0.9879 - val_loss: 0.0481 - val_accuracy: 0.9847\n",
      "Epoch 5/5\n",
      "60000/60000 [==============================] - 14s 237us/sample - loss: 0.0310 - accuracy: 0.9897 - val_loss: 0.0342 - val_accuracy: 0.9890\n"
     ]
    }
   ],
   "source": [
    "history=net.fit(train_x,train_label,test_x,test_label)"
   ]
  },
  {
   "cell_type": "code",
   "execution_count": null,
   "metadata": {},
   "outputs": [],
   "source": []
  }
 ],
 "metadata": {
  "kernelspec": {
   "display_name": "Python 3",
   "language": "python",
   "name": "python3"
  },
  "language_info": {
   "codemirror_mode": {
    "name": "ipython",
    "version": 3
   },
   "file_extension": ".py",
   "mimetype": "text/x-python",
   "name": "python",
   "nbconvert_exporter": "python",
   "pygments_lexer": "ipython3",
   "version": "3.7.4"
  }
 },
 "nbformat": 4,
 "nbformat_minor": 2
}
