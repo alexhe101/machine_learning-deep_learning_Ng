{
 "cells": [
  {
   "cell_type": "code",
   "execution_count": 1,
   "metadata": {},
   "outputs": [],
   "source": [
    "#复现AlexNet\n",
    "#不使用LRN 局部相应归一化"
   ]
  },
  {
   "cell_type": "code",
   "execution_count": 2,
   "metadata": {},
   "outputs": [],
   "source": [
    "from tensorflow import keras"
   ]
  },
  {
   "cell_type": "code",
   "execution_count": 16,
   "metadata": {},
   "outputs": [],
   "source": [
    "class AlexNet():\n",
    "    def __init__(self):\n",
    "        self.model = keras.Sequential()\n",
    "        self.model.add(keras.layers.Conv2D(96,(11,11),strides=(4,4),activation='relu',input_shape=(227,227,3)))\n",
    "        self.model.add(keras.layers.MaxPooling2D((3,3),strides=(2,2)))\n",
    "        self.model.add(keras.layers.Conv2D(256,(5,5),activation='relu',padding='same'))\n",
    "        self.model.add(keras.layers.MaxPooling2D((3,3),strides=(2,2)))\n",
    "        self.model.add(keras.layers.Conv2D(384,(3,3),activation='relu',padding='same'))\n",
    "        self.model.add(keras.layers.Conv2D(384,(3,3),activation='relu',padding='same'))\n",
    "        self.model.add(keras.layers.Conv2D(256,(3,3),activation='relu',padding='same'))\n",
    "        self.model.add(keras.layers.MaxPooling2D((3,3),strides=(2,2)))\n",
    "        self.model.add(keras.layers.Flatten())\n",
    "        self.model.add(keras.layers.Dense(4096,activation='relu'))\n",
    "        self.model.add(keras.layers.Dropout(0.5))\n",
    "        self.model.add(keras.layers.Dense(4096,activation='relu'))\n",
    "        self.model.add(keras.layers.Dropout(0.5))\n",
    "        self.model.add(keras.layers.Dense(1000,activation='softmax'))\n",
    "        \n",
    "    def info(self):\n",
    "        self.model.summary()\n",
    "    def compiles(self):\n",
    "        self.model.compile(metrics=['accuracy'],optimizer='Adam',loss='sparse_categorical_crossentropy')\n",
    "    def fit(self,train_x,train_y,test_x,test_y):\n",
    "        history=self.model.fit(train_x,train_y,batch_size=64,epochs=5,validation_data=[test_x,test_y])\n",
    "        return history"
   ]
  },
  {
   "cell_type": "code",
   "execution_count": 17,
   "metadata": {},
   "outputs": [],
   "source": [
    "net = AlexNet()"
   ]
  },
  {
   "cell_type": "code",
   "execution_count": 18,
   "metadata": {},
   "outputs": [
    {
     "name": "stdout",
     "output_type": "stream",
     "text": [
      "Model: \"sequential_5\"\n",
      "_________________________________________________________________\n",
      "Layer (type)                 Output Shape              Param #   \n",
      "=================================================================\n",
      "conv2d_25 (Conv2D)           (None, 55, 55, 96)        34944     \n",
      "_________________________________________________________________\n",
      "max_pooling2d_15 (MaxPooling (None, 27, 27, 96)        0         \n",
      "_________________________________________________________________\n",
      "conv2d_26 (Conv2D)           (None, 27, 27, 256)       614656    \n",
      "_________________________________________________________________\n",
      "max_pooling2d_16 (MaxPooling (None, 13, 13, 256)       0         \n",
      "_________________________________________________________________\n",
      "conv2d_27 (Conv2D)           (None, 13, 13, 384)       885120    \n",
      "_________________________________________________________________\n",
      "conv2d_28 (Conv2D)           (None, 13, 13, 384)       1327488   \n",
      "_________________________________________________________________\n",
      "conv2d_29 (Conv2D)           (None, 13, 13, 256)       884992    \n",
      "_________________________________________________________________\n",
      "max_pooling2d_17 (MaxPooling (None, 6, 6, 256)         0         \n",
      "_________________________________________________________________\n",
      "flatten_5 (Flatten)          (None, 9216)              0         \n",
      "_________________________________________________________________\n",
      "dense_9 (Dense)              (None, 4096)              37752832  \n",
      "_________________________________________________________________\n",
      "dropout_1 (Dropout)          (None, 4096)              0         \n",
      "_________________________________________________________________\n",
      "dense_10 (Dense)             (None, 4096)              16781312  \n",
      "_________________________________________________________________\n",
      "dropout_2 (Dropout)          (None, 4096)              0         \n",
      "_________________________________________________________________\n",
      "dense_11 (Dense)             (None, 1000)              4097000   \n",
      "=================================================================\n",
      "Total params: 62,378,344\n",
      "Trainable params: 62,378,344\n",
      "Non-trainable params: 0\n",
      "_________________________________________________________________\n"
     ]
    }
   ],
   "source": [
    "net.info()"
   ]
  },
  {
   "cell_type": "code",
   "execution_count": null,
   "metadata": {},
   "outputs": [],
   "source": []
  }
 ],
 "metadata": {
  "kernelspec": {
   "display_name": "Python 3",
   "language": "python",
   "name": "python3"
  },
  "language_info": {
   "codemirror_mode": {
    "name": "ipython",
    "version": 3
   },
   "file_extension": ".py",
   "mimetype": "text/x-python",
   "name": "python",
   "nbconvert_exporter": "python",
   "pygments_lexer": "ipython3",
   "version": "3.7.4"
  }
 },
 "nbformat": 4,
 "nbformat_minor": 2
}
