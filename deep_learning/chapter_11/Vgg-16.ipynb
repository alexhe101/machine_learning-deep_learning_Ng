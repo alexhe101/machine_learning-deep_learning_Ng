{
 "cells": [
  {
   "cell_type": "code",
   "execution_count": 1,
   "metadata": {},
   "outputs": [],
   "source": [
    "#复现Vgg-16\n",
    "#将原文中的平均池化改成最大池化 将sigmoid和tanh换成relu 将分类函数换成softmax"
   ]
  },
  {
   "cell_type": "code",
   "execution_count": 2,
   "metadata": {},
   "outputs": [],
   "source": [
    "from tensorflow import keras"
   ]
  },
  {
   "cell_type": "code",
   "execution_count": 3,
   "metadata": {},
   "outputs": [],
   "source": [
    "class Vgg_16():\n",
    "    def __init__(self):\n",
    "        self.model = keras.Sequential()\n",
    "        self.model.add(keras.layers.Conv2D(64,(3,3),activation='relu',padding='same',input_shape=(224,224,3)))\n",
    "        self.model.add(keras.layers.Conv2D(64,(3,3),activation='relu',padding='same'))\n",
    "        self.model.add(keras.layers.MaxPooling2D((2,2),strides=(2,2)))\n",
    "        self.model.add(keras.layers.Conv2D(128,(3,3),activation='relu',padding='same'))\n",
    "        self.model.add(keras.layers.Conv2D(128,(3,3),activation='relu',padding='same'))\n",
    "        self.model.add(keras.layers.MaxPooling2D((2,2),strides=(2,2)))\n",
    "        self.model.add(keras.layers.Conv2D(256,(3,3),activation='relu',padding='same'))\n",
    "        self.model.add(keras.layers.Conv2D(256,(3,3),activation='relu',padding='same'))\n",
    "        self.model.add(keras.layers.Conv2D(256,(3,3),activation='relu',padding='same'))\n",
    "        self.model.add(keras.layers.MaxPooling2D((2,2),strides=(2,2)))\n",
    "        self.model.add(keras.layers.Conv2D(512,(3,3),activation='relu',padding='same'))\n",
    "        self.model.add(keras.layers.Conv2D(512,(3,3),activation='relu',padding='same'))\n",
    "        self.model.add(keras.layers.Conv2D(512,(3,3),activation='relu',padding='same'))\n",
    "        self.model.add(keras.layers.MaxPooling2D((2,2),strides=(2,2)))\n",
    "        self.model.add(keras.layers.Conv2D(512,(3,3),activation='relu',padding='same'))\n",
    "        self.model.add(keras.layers.Conv2D(512,(3,3),activation='relu',padding='same'))\n",
    "        self.model.add(keras.layers.Conv2D(512,(3,3),activation='relu',padding='same'))\n",
    "        self.model.add(keras.layers.MaxPooling2D((2,2),strides=(2,2)))\n",
    "        self.model.add(keras.layers.Flatten())\n",
    "        self.model.add(keras.layers.Dense(4096,activation='relu'))\n",
    "        self.model.add(keras.layers.Dense(4096,activation='relu'))\n",
    "        self.model.add(keras.layers.Dense(1000,activation='softmax'))\n",
    "        \n",
    "    def info(self):\n",
    "        self.model.summary()\n",
    "    def compiles(self):\n",
    "        self.model.compile(metrics=['accuracy'],optimizer='Adam',loss='sparse_categorical_crossentropy')\n",
    "    def fit(self,train_x,train_y,test_x,test_y):\n",
    "        history=self.model.fit(train_x,train_y,batch_size=64,epochs=5,validation_data=[test_x,test_y])\n",
    "        return history"
   ]
  },
  {
   "cell_type": "code",
   "execution_count": 4,
   "metadata": {},
   "outputs": [],
   "source": [
    "net = Vgg_16()"
   ]
  },
  {
   "cell_type": "code",
   "execution_count": 5,
   "metadata": {},
   "outputs": [
    {
     "name": "stdout",
     "output_type": "stream",
     "text": [
      "Model: \"sequential\"\n",
      "_________________________________________________________________\n",
      "Layer (type)                 Output Shape              Param #   \n",
      "=================================================================\n",
      "conv2d (Conv2D)              (None, 224, 224, 64)      1792      \n",
      "_________________________________________________________________\n",
      "conv2d_1 (Conv2D)            (None, 224, 224, 64)      36928     \n",
      "_________________________________________________________________\n",
      "max_pooling2d (MaxPooling2D) (None, 112, 112, 64)      0         \n",
      "_________________________________________________________________\n",
      "conv2d_2 (Conv2D)            (None, 112, 112, 128)     73856     \n",
      "_________________________________________________________________\n",
      "conv2d_3 (Conv2D)            (None, 112, 112, 128)     147584    \n",
      "_________________________________________________________________\n",
      "max_pooling2d_1 (MaxPooling2 (None, 56, 56, 128)       0         \n",
      "_________________________________________________________________\n",
      "conv2d_4 (Conv2D)            (None, 56, 56, 256)       295168    \n",
      "_________________________________________________________________\n",
      "conv2d_5 (Conv2D)            (None, 56, 56, 256)       590080    \n",
      "_________________________________________________________________\n",
      "conv2d_6 (Conv2D)            (None, 56, 56, 256)       590080    \n",
      "_________________________________________________________________\n",
      "max_pooling2d_2 (MaxPooling2 (None, 28, 28, 256)       0         \n",
      "_________________________________________________________________\n",
      "conv2d_7 (Conv2D)            (None, 28, 28, 512)       1180160   \n",
      "_________________________________________________________________\n",
      "conv2d_8 (Conv2D)            (None, 28, 28, 512)       2359808   \n",
      "_________________________________________________________________\n",
      "conv2d_9 (Conv2D)            (None, 28, 28, 512)       2359808   \n",
      "_________________________________________________________________\n",
      "max_pooling2d_3 (MaxPooling2 (None, 14, 14, 512)       0         \n",
      "_________________________________________________________________\n",
      "conv2d_10 (Conv2D)           (None, 14, 14, 512)       2359808   \n",
      "_________________________________________________________________\n",
      "conv2d_11 (Conv2D)           (None, 14, 14, 512)       2359808   \n",
      "_________________________________________________________________\n",
      "conv2d_12 (Conv2D)           (None, 14, 14, 512)       2359808   \n",
      "_________________________________________________________________\n",
      "max_pooling2d_4 (MaxPooling2 (None, 7, 7, 512)         0         \n",
      "_________________________________________________________________\n",
      "flatten (Flatten)            (None, 25088)             0         \n",
      "_________________________________________________________________\n",
      "dense (Dense)                (None, 4096)              102764544 \n",
      "_________________________________________________________________\n",
      "dense_1 (Dense)              (None, 4096)              16781312  \n",
      "_________________________________________________________________\n",
      "dense_2 (Dense)              (None, 1000)              4097000   \n",
      "=================================================================\n",
      "Total params: 138,357,544\n",
      "Trainable params: 138,357,544\n",
      "Non-trainable params: 0\n",
      "_________________________________________________________________\n"
     ]
    }
   ],
   "source": [
    "net.info()"
   ]
  },
  {
   "cell_type": "code",
   "execution_count": null,
   "metadata": {},
   "outputs": [],
   "source": []
  }
 ],
 "metadata": {
  "kernelspec": {
   "display_name": "Python 3",
   "language": "python",
   "name": "python3"
  },
  "language_info": {
   "codemirror_mode": {
    "name": "ipython",
    "version": 3
   },
   "file_extension": ".py",
   "mimetype": "text/x-python",
   "name": "python",
   "nbconvert_exporter": "python",
   "pygments_lexer": "ipython3",
   "version": "3.7.4"
  }
 },
 "nbformat": 4,
 "nbformat_minor": 2
}
