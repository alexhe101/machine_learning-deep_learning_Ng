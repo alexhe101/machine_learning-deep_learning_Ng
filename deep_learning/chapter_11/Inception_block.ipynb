{
 "cells": [
  {
   "cell_type": "code",
   "execution_count": 2,
   "metadata": {},
   "outputs": [],
   "source": [
    "from tensorflow import keras\n",
    "#使用keras搭建inception模块"
   ]
  },
  {
   "cell_type": "code",
   "execution_count": 3,
   "metadata": {},
   "outputs": [],
   "source": [
    "def inceptionblock(X):\n",
    "    inputs = X\n",
    "    v1 = keras.layers.Conv2D(64,(1,1),activation='relu')(inputs)\n",
    "    x2 = keras.layers.Conv2D(96,(1,1),activation='relu')(inputs)\n",
    "    x3 = keras.layers.Conv2D(16,(1,1),activation='relu')(inputs)\n",
    "    x4 = keras.layers.MaxPooling2D((3,3),strides=(1,1),padding='same')(inputs)\n",
    "    v2 = keras.layers.Conv2D(128,(3,3),padding='same',activation='relu')(x2)\n",
    "    v3 = keras.layers.Conv2D(32,(5,5),padding='same',activation='relu')(x3)\n",
    "    v4 = keras.layers.Conv2D(32,(1,1),activation='relu')(x4)\n",
    "    ret = keras.layers.add()([v1,v2,v3,v4])\n",
    "    return ret"
   ]
  },
  {
   "cell_type": "code",
   "execution_count": null,
   "metadata": {},
   "outputs": [],
   "source": []
  }
 ],
 "metadata": {
  "kernelspec": {
   "display_name": "Python 3",
   "language": "python",
   "name": "python3"
  },
  "language_info": {
   "codemirror_mode": {
    "name": "ipython",
    "version": 3
   },
   "file_extension": ".py",
   "mimetype": "text/x-python",
   "name": "python",
   "nbconvert_exporter": "python",
   "pygments_lexer": "ipython3",
   "version": "3.7.4"
  }
 },
 "nbformat": 4,
 "nbformat_minor": 2
}
