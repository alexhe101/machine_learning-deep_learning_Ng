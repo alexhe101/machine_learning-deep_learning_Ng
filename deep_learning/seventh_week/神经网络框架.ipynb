{
 "cells": [
  {
   "cell_type": "code",
   "execution_count": 220,
   "metadata": {},
   "outputs": [],
   "source": [
    "#神经网络的继续优化 增加momentum rmsprop 以及adam算法 以点的区分为例"
   ]
  },
  {
   "cell_type": "code",
   "execution_count": 239,
   "metadata": {},
   "outputs": [],
   "source": [
    "import numpy as np\n",
    "import matplotlib.pyplot as plt\n",
    "import scipy.io\n",
    "import operator\n",
    "import sklearn\n",
    "from functools import reduce\n",
    "import h5py\n",
    "import sklearn.datasets\n",
    "import tensorflow as tf"
   ]
  },
  {
   "cell_type": "code",
   "execution_count": 276,
   "metadata": {},
   "outputs": [
    {
     "name": "stdout",
     "output_type": "stream",
     "text": [
      "Extracting /mydata/train-images-idx3-ubyte.gz\n",
      "Extracting /mydata/train-labels-idx1-ubyte.gz\n",
      "Extracting /mydata/t10k-images-idx3-ubyte.gz\n",
      "Extracting /mydata/t10k-labels-idx1-ubyte.gz\n"
     ]
    }
   ],
   "source": [
    "from tensorflow.examples.tutorials.mnist import input_data\n",
    "mnist = input_data.read_data_sets('/mydata/', one_hot=True)#导入mnist数据集"
   ]
  },
  {
   "cell_type": "code",
   "execution_count": 277,
   "metadata": {},
   "outputs": [],
   "source": [
    "#获取原始训练集和标签\n",
    "train_image_ori = mnist.train.images\n",
    "train_label_ori = mnist.train.labels"
   ]
  },
  {
   "cell_type": "code",
   "execution_count": 278,
   "metadata": {},
   "outputs": [
    {
     "name": "stdout",
     "output_type": "stream",
     "text": [
      "(55000, 784)\n",
      "(55000, 10)\n"
     ]
    }
   ],
   "source": [
    "#查看维度\n",
    "print(train_image_ori.shape)\n",
    "print(train_label_ori.shape)"
   ]
  },
  {
   "cell_type": "code",
   "execution_count": 279,
   "metadata": {},
   "outputs": [],
   "source": [
    "#数据预处理\n",
    "train_image = train_image_ori.T\n",
    "train_label = train_label_ori.T"
   ]
  },
  {
   "cell_type": "code",
   "execution_count": 280,
   "metadata": {},
   "outputs": [
    {
     "name": "stdout",
     "output_type": "stream",
     "text": [
      "(55000, 784)\n",
      "(55000, 10)\n",
      "(784, 55000)\n",
      "(10, 55000)\n"
     ]
    }
   ],
   "source": [
    "print(train_image_ori.shape)\n",
    "print(train_label_ori.shape)\n",
    "print(train_image.shape)\n",
    "print(train_label.shape)"
   ]
  },
  {
   "cell_type": "code",
   "execution_count": 281,
   "metadata": {},
   "outputs": [
    {
     "name": "stdout",
     "output_type": "stream",
     "text": [
      "1.0\n",
      "0.0\n"
     ]
    }
   ],
   "source": [
    "#查看数据极值\n",
    "print(np.max(train_image))\n",
    "print(np.min(train_image))"
   ]
  },
  {
   "cell_type": "code",
   "execution_count": 282,
   "metadata": {},
   "outputs": [],
   "source": [
    "#使用两层神经网络，使用relu函数和sigmoid函数，第一层n_h节点\n",
    "def init_paramters_deep(Layer_dims):\n",
    "    np.random.seed(3)\n",
    "    paramters = {}\n",
    "    V = {}\n",
    "    S = {}\n",
    "    for i in range(1,len(Layer_dims)):\n",
    "        paramters['W'+str(i)] = np.random.randn(Layer_dims[i],Layer_dims[i-1])/np.sqrt(Layer_dims[i-1])#这也是个修改点\n",
    "        paramters['b'+str(i)] = np.zeros((Layer_dims[i],1))\n",
    "        V['dW'+str(i)] = np.zeros((Layer_dims[i],Layer_dims[i-1]))\n",
    "        V['db'+str(i)] = np.zeros((Layer_dims[i],1))\n",
    "        S['dW'+str(i)] = np.zeros((Layer_dims[i],Layer_dims[i-1]))\n",
    "        S['db'+str(i)] = np.zeros((Layer_dims[i],1))\n",
    "    return paramters,V,S"
   ]
  },
  {
   "cell_type": "code",
   "execution_count": 283,
   "metadata": {},
   "outputs": [],
   "source": [
    "#定义激活函数\n",
    "def activation(x,activate):\n",
    "    if(activate=='relu'):\n",
    "        return (abs(x)+x)/2\n",
    "    if(activate=='sigmoid'):\n",
    "        return 1/(1+np.exp(-x))\n",
    "    if(activate=='softmax'):\n",
    "        maxnum = np.max(x)\n",
    "        x = x-maxnum\n",
    "        t = np.exp(x)\n",
    "        return t/(np.sum(t,axis=0))"
   ]
  },
  {
   "cell_type": "code",
   "execution_count": 284,
   "metadata": {},
   "outputs": [],
   "source": [
    "#进行前向传播\n",
    "def forward(X,paramters,keep_prob):\n",
    "    cache = {}\n",
    "    a = X\n",
    "    cache['A0']=X\n",
    "    length = len(paramters)//2+1\n",
    "    for i in range(1,length):\n",
    "        W = paramters['W'+str(i)]\n",
    "        b = paramters['b'+str(i)]\n",
    "        Z = np.dot(W,a)+b\n",
    "        #cache['mu'+str(i)] = np.mean(Z,axis=1)\n",
    "        #cache['sigma'+str(i)] = np.std(Z,axis=1)\n",
    "        #cache['Zn'+str(i)] = (Z-cache['mu'+str(i)])/cache['sigma'+str(i)]\n",
    "        #cache['Znn']\n",
    "        cache['Z'+str(i)] = Z\n",
    "        if(i!=length-1):\n",
    "            a = activation(Z,'relu')\n",
    "            D = np.random.rand(a.shape[0],a.shape[1])\n",
    "            D = (D<keep_prob).astype(int) \n",
    "            cache['D'+str(i)] = D\n",
    "            a = a*D\n",
    "            a =a/keep_prob\n",
    "        else:\n",
    "            a = activation(Z,'softmax')\n",
    "        cache['A'+str(i)] = a\n",
    "    return cache"
   ]
  },
  {
   "cell_type": "code",
   "execution_count": 285,
   "metadata": {},
   "outputs": [],
   "source": [
    "def forward_without_prob(X,paramters):\n",
    "    cache = {}\n",
    "    a = X\n",
    "    cache['A0']=X\n",
    "    length = len(paramters)//2+1\n",
    "    for i in range(1,length):\n",
    "        W = paramters['W'+str(i)]\n",
    "        b = paramters['b'+str(i)]\n",
    "        Z = np.dot(W,a)+b\n",
    "        cache['Z'+str(i)] = Z\n",
    "        if(i!=length-1):\n",
    "            a = activation(Z,'relu')\n",
    "        else:\n",
    "            a = activation(Z,'softmax')\n",
    "        cache['A'+str(i)] = a\n",
    "    return cache    "
   ]
  },
  {
   "cell_type": "code",
   "execution_count": 286,
   "metadata": {},
   "outputs": [],
   "source": [
    "#计算损失函数\n",
    "def computeCost(A,Y,lamdb,Layer_dims,parameters):\n",
    "    m = Y.shape[1]\n",
    "    reg = 0\n",
    "    #cost = (-1/A.shape[1])*np.nansum((Y*np.log(A))+(1-Y)*np.log(1-A))\n",
    "    cost = (-1/A.shape[1])*np.nansum(Y*np.log(A))\n",
    "    if(lamdb==0):\n",
    "        return cost\n",
    "    else:\n",
    "        for i in range(1,len(Layer_dims)):\n",
    "            reg +=np.sum(np.square(parameters['W'+str(i)]))\n",
    "    return cost+(lamdb/(2*m))*reg"
   ]
  },
  {
   "cell_type": "code",
   "execution_count": 287,
   "metadata": {},
   "outputs": [],
   "source": [
    "#进行反向传播计算\n",
    "def backward(X,caches,Y,paramters,lamdb,keep_prob):\n",
    "    m = X.shape[1]\n",
    "    length = len(paramters)//2+1\n",
    "    grads={}\n",
    "    dZ = caches['A'+str(length-1)]-Y\n",
    "    for i in reversed(range(1,length)):\n",
    "        w = paramters['W'+str(i)]\n",
    "        a_prev = caches['A'+str(i-1)]\n",
    "        dw = (1./m)*np.dot(dZ,a_prev.T)+(lamdb/m)*w\n",
    "        db = (1./m)*np.sum(dZ,axis=1,keepdims=True)\n",
    "        if i-1!=0:\n",
    "            d = caches['D'+str(i-1)]\n",
    "            da_prev = np.dot(w.T,dZ)*d\n",
    "            da_prev/=keep_prob\n",
    "        else:\n",
    "            da_prev = np.dot(w.T,dZ)\n",
    "        dZ = np.multiply(da_prev, np.int64(a_prev > 0))#这一步，关键所在\n",
    "        grads['dW'+str(i)] = dw\n",
    "        grads['db'+str(i)] = db\n",
    "    return grads"
   ]
  },
  {
   "cell_type": "code",
   "execution_count": 288,
   "metadata": {},
   "outputs": [],
   "source": [
    "def backward_without_prob(X,caches,Y,paramters,lamdb):\n",
    "    m = X.shape[1]\n",
    "    length = len(paramters)//2+1\n",
    "    grads={}\n",
    "    dZ = caches['A'+str(length-1)]-Y\n",
    "    for i in reversed(range(1,length)):\n",
    "        w = paramters['W'+str(i)]\n",
    "        a_prev = caches['A'+str(i-1)]\n",
    "        dw = (1./m)*np.dot(dZ,a_prev.T)+(lamdb/m)*w\n",
    "        db = (1./m)*np.sum(dZ,axis=1,keepdims=True)\n",
    "        da_prev = np.dot(w.T,dZ)\n",
    "        dZ = np.multiply(da_prev, np.int64(a_prev > 0))#这一步，关键所在\n",
    "        grads['dW'+str(i)] = dw\n",
    "        grads['db'+str(i)] = db\n",
    "    return grads"
   ]
  },
  {
   "cell_type": "code",
   "execution_count": 289,
   "metadata": {},
   "outputs": [],
   "source": [
    "def update_paramters(paramters,grads,learning_rate):\n",
    "    length = len(paramters)//2+1\n",
    "    for i in range(1,length):\n",
    "        paramters['W'+str(i)] = paramters['W'+str(i)]-learning_rate*grads['dW'+str(i)]\n",
    "        paramters['b'+str(i)] = paramters['b'+str(i)]-learning_rate*grads['db'+str(i)]\n",
    "    return paramters"
   ]
  },
  {
   "cell_type": "code",
   "execution_count": 290,
   "metadata": {},
   "outputs": [],
   "source": [
    "def update_paramters_with_momentum(paramters,grads,learning_rate,V,beta):\n",
    "    length = len(paramters)//2+1\n",
    "    for i in range(1,length):\n",
    "        V['dW'+str(i)] = V['dW'+str(i)]*beta+(1-beta)*grads['dW'+str(i)]\n",
    "        V['db'+str(i)] = V['db'+str(i)]*beta+(1-beta)*grads['db'+str(i)]\n",
    "        paramters['W'+str(i)] = paramters['W'+str(i)]-learning_rate*V['dW'+str(i)]\n",
    "        paramters['b'+str(i)] = paramters['b'+str(i)]-learning_rate*V['db'+str(i)]\n",
    "    return paramters,V"
   ]
  },
  {
   "cell_type": "code",
   "execution_count": 291,
   "metadata": {},
   "outputs": [],
   "source": [
    "def update_paramters_with_RMSPorp(paramters,grads,learning_rate,S,beta):\n",
    "    length = len(paramters)//2+1\n",
    "    for i in range(1,length):\n",
    "        S['dW'+str(i)] = S['dW'+str(i)]*beta+(1-beta)*(grads['dW'+str(i)]**2)\n",
    "        S['db'+str(i)] = S['db'+str(i)]*beta+(1-beta)*(grads['db'+str(i)]**2)\n",
    "        paramters['W'+str(i)] = paramters['W'+str(i)]-(learning_rate*(grads['dW'+str(i)]))/((np.sqrt(S['dW'+str(i)])+1e-8))\n",
    "        paramters['b'+str(i)] = paramters['b'+str(i)]-(learning_rate*grads['db'+str(i)])/((np.sqrt(S['db'+str(i)])+1e-8))\n",
    "    return paramters,S"
   ]
  },
  {
   "cell_type": "code",
   "execution_count": 292,
   "metadata": {},
   "outputs": [],
   "source": [
    "def update_paramters_with_Adam(paramters,grads,learning_rate,V,S,beta1,beta2,t):\n",
    "    length = len(paramters)//2+1\n",
    "    v_corrected=  {}\n",
    "    s_corrected = {}\n",
    "    for i in range(1,length):\n",
    "        V['dW'+str(i)] = V['dW'+str(i)]*beta1+(1-beta1)*grads['dW'+str(i)]\n",
    "        V['db'+str(i)] = V['db'+str(i)]*beta1+(1-beta1)*grads['db'+str(i)]\n",
    "        v_corrected[\"dW\" + str(i)] = V[\"dW\" + str(i)]/(1-beta1**t)\n",
    "        v_corrected[\"db\" + str(i)] = V[\"db\" + str(i)]/(1-beta1**t)\n",
    "        S[\"dW\" + str(i)] = S[\"dW\" + str(i)]*beta2+(1-beta2)*(grads['dW'+str(i)]**2)\n",
    "        S[\"db\" + str(i)] = S[\"db\" + str(i)]*beta2+(1-beta2)*(grads['db'+str(i)]**2)\n",
    "        s_corrected[\"dW\" + str(i)] = S[\"dW\" + str(i)]/(1-beta2**t)\n",
    "        s_corrected[\"db\" + str(i)] = S[\"db\" + str(i)]/(1-beta2**t)\n",
    "        paramters[\"W\" + str(i)] = paramters[\"W\" + str(i)]-learning_rate*(v_corrected[\"dW\" + str(i)]/(np.sqrt(s_corrected[\"dW\" + str(i)])+1e-8))\n",
    "        paramters[\"b\" + str(i)] = paramters[\"b\" + str(i)]-learning_rate*(v_corrected[\"db\" + str(i)]/(np.sqrt(s_corrected[\"db\" + str(i)])+1e-8))\n",
    "    return paramters,V,S"
   ]
  },
  {
   "cell_type": "code",
   "execution_count": 293,
   "metadata": {},
   "outputs": [],
   "source": [
    "def create_batch(X,Y,batch_size):\n",
    "    total_num = X.shape[1]\n",
    "    batch_num = 0\n",
    "    mini_batchs = []\n",
    "    permutation = list(np.random.permutation(total_num))\n",
    "    shuffle_x = X[:,permutation]\n",
    "    shuffle_y = Y[:,permutation]\n",
    "    if total_num%batch_size==0:\n",
    "        batch_num = (int)(total_num/batch_size)\n",
    "        for i in range(batch_num):\n",
    "            mini_batch = (shuffle_x[:,i*batch_size:(i+1)*batch_size],shuffle_y[:,i*batch_size:(i+1)*batch_size])\n",
    "            mini_batchs.append(mini_batch)\n",
    "    else:\n",
    "        batch_num = (int)(total_num/batch_size)+1\n",
    "        for i in range(batch_num-1):\n",
    "            mini_batch = (shuffle_x[:,i*batch_size:(i+1)*batch_size],shuffle_y[:,i*batch_size:(i+1)*batch_size])\n",
    "            mini_batchs.append(mini_batch)\n",
    "        left= (shuffle_x[:,(batch_num-1)*batch_size:],shuffle_y[:,(batch_num-1)*batch_size:])\n",
    "        mini_batchs.append(left)\n",
    "    #return np.array(mini_batchs)\n",
    "    return mini_batchs"
   ]
  },
  {
   "cell_type": "code",
   "execution_count": 302,
   "metadata": {},
   "outputs": [],
   "source": [
    "#建立浅层神经网络模型\n",
    "def nn_model(X,Y,learning_rate,epochs,layer_dims,lamdb,keep_prob,batch_size,optimizer=None,beta1=0.9,beta2=0.999):\n",
    "    losses = []\n",
    "    paramters,V,S = init_paramters_deep(layer_dims)#完全一致\n",
    "    length = len(layer_dims)\n",
    "    mini_batchs = create_batch(X,Y,batch_size)\n",
    "    t = 0\n",
    "    for i in range(epochs):\n",
    "        for mini_batch in mini_batchs:\n",
    "            mini_X = mini_batch[0]\n",
    "            mini_Y  = mini_batch[1]\n",
    "            if(keep_prob==1):\n",
    "                caches=forward_without_prob(mini_X,paramters)\n",
    "                grads = backward_without_prob(mini_X,caches,mini_Y,paramters,lamdb)\n",
    "            else:\n",
    "                caches = forward(mini_X,paramters,keep_prob)\n",
    "                grads = backward(mini_Y,caches,Y,paramters,lamdb,keep_prob)\n",
    "            if optimizer=='momentum':\n",
    "                paramters,V  = update_paramters_with_momentum(paramters,grads,learning_rate,V,beta1)\n",
    "            if optimizer==None:\n",
    "                paramters = update_paramters(paramters,grads,learning_rate)\n",
    "            if optimizer=='RMSProp':\n",
    "                paramters,S  = update_paramters_with_RMSPorp(paramters,grads,learning_rate,S,beta2)\n",
    "            if optimizer=='Adam':\n",
    "                t =t+1\n",
    "                paramters,V,S = update_paramters_with_Adam(paramters,grads,learning_rate,V,S,beta1,beta2,t)\n",
    "        cost = computeCost(caches['A'+str(length-1)],mini_Y,lamdb,layer_dims,paramters)\n",
    "        losses.append(cost)\n",
    "        if i%100==0:\n",
    "            print(cost)\n",
    "    plt.plot(losses)\n",
    "    return paramters,losses"
   ]
  },
  {
   "cell_type": "code",
   "execution_count": 295,
   "metadata": {},
   "outputs": [],
   "source": [
    "def predict(X, y, parameters):\n",
    "    \"\"\"\n",
    "    This function is used to predict the results of a  n-layer neural network.\n",
    "    \n",
    "    Arguments:\n",
    "    X -- data set of examples you would like to label\n",
    "    parameters -- parameters of the trained model\n",
    "    \n",
    "    Returns:\n",
    "    p -- predictions for the given dataset X\n",
    "    \"\"\"\n",
    "    \n",
    "    m = X.shape[1]\n",
    "    p = np.zeros((1,m), dtype = np.int)\n",
    "    \n",
    "    # Forward propagation\n",
    "    caches = forward(X, parameters,1)\n",
    "    a3 = caches['A3']\n",
    "    \n",
    "    # convert probas to 0/1 predictions\n",
    "    for i in range(0, a3.shape[1]):\n",
    "        if a3[0,i] > 0.5:\n",
    "            p[0,i] = 1\n",
    "        else:\n",
    "            p[0,i] = 0\n",
    "\n",
    "    # print results\n",
    "\n",
    "    #print (\"predictions: \" + str(p[0,:]))\n",
    "    #print (\"true labels: \" + str(y[0,:]))\n",
    "    print(\"Accuracy: \"  + str(np.mean((p[0,:] == y[0,:]))))\n",
    "    \n",
    "    return p"
   ]
  },
  {
   "cell_type": "code",
   "execution_count": 296,
   "metadata": {},
   "outputs": [],
   "source": [
    "#计算预测准确率\n",
    "def accuracy(X,Y,parameters):\n",
    "    caches = forward(X,parameters,1)\n",
    "    length = len(parameters)//2+1\n",
    "    A = caches['A'+str(length-1)]\n",
    "    idx1 = np.argmax(A,axis=0)\n",
    "    idx2 = np.argmax(Y,axis=0)\n",
    "    cmp = (idx1==idx2)\n",
    "    return np.sum(cmp)/idx1.shape[0]"
   ]
  },
  {
   "cell_type": "code",
   "execution_count": 297,
   "metadata": {},
   "outputs": [],
   "source": [
    "test_image_ori = mnist.test.images\n",
    "test_label_ori = mnist.test.labels"
   ]
  },
  {
   "cell_type": "code",
   "execution_count": 298,
   "metadata": {},
   "outputs": [],
   "source": [
    "test_image = test_image_ori.T\n",
    "test_label = test_label_ori.T"
   ]
  },
  {
   "cell_type": "code",
   "execution_count": 300,
   "metadata": {},
   "outputs": [],
   "source": [
    "layer_dims = [train_image.shape[0],20,5,10]"
   ]
  },
  {
   "cell_type": "code",
   "execution_count": 301,
   "metadata": {},
   "outputs": [
    {
     "name": "stdout",
     "output_type": "stream",
     "text": [
      "0.11152727272727272\n"
     ]
    }
   ],
   "source": [
    "#没训练前的准确率\n",
    "parameters,v,s = init_paramters_deep(layer_dims)\n",
    "print(accuracy(train_image,train_label,parameters))"
   ]
  },
  {
   "cell_type": "code",
   "execution_count": 270,
   "metadata": {},
   "outputs": [
    {
     "name": "stdout",
     "output_type": "stream",
     "text": [
      "1.8446224818637587\n",
      "1.6916107793113684\n",
      "1.5567902933887643\n",
      "1.451556685843626\n",
      "1.3735852262947796\n",
      "1.3296768318703056\n",
      "1.2982047993182033\n",
      "1.2753073031113054\n",
      "1.2624564524542055\n",
      "1.249215813204178\n",
      "1.2463928071948394\n",
      "1.241164391129178\n",
      "1.2362302685206374\n",
      "1.2307425445933706\n",
      "1.2265680056482016\n",
      "1.222382551572764\n",
      "1.2183014277296038\n",
      "1.2131610786977138\n",
      "1.205758763690155\n",
      "1.1982524327276942\n",
      "0.6609090909090909\n"
     ]
    },
    {
     "data": {
      "image/png": "[encoded data removed]",
      "text/plain": [
       "<Figure size 432x288 with 1 Axes>"
      ]
     },
     "metadata": {
      "needs_background": "light"
     },
     "output_type": "display_data"
    }
   ],
   "source": [
    "parameters,loss = nn_model(train_image, train_label,0.05,20,layer_dims,0,1,train_X.shape[1])\n",
    "print(accuracy(train_image,train_label,parameters))\n",
    "#使用普通梯度下降算法 正确率较低"
   ]
  },
  {
   "cell_type": "code",
   "execution_count": 303,
   "metadata": {},
   "outputs": [
    {
     "name": "stdout",
     "output_type": "stream",
     "text": [
      "0.20535320016154124\n",
      "accuracy in train set 0.9632363636363637\n",
      "accuracy in test set 0.948\n"
     ]
    },
    {
     "data": {
      "image/png": "[encoded data removed]",
      "text/plain": [
       "<Figure size 432x288 with 1 Axes>"
      ]
     },
     "metadata": {
      "needs_background": "light"
     },
     "output_type": "display_data"
    }
   ],
   "source": [
    "parameters,loss = nn_model(train_image, train_label,0.05,20,layer_dims,0,1,64)\n",
    "print(\"accuracy in train set \"+str(accuracy(train_image,train_label,parameters)))\n",
    "print(\"accuracy in test set \"+str(accuracy(test_image,test_label,parameters)))\n",
    "#使用mini-batch下降算法 正确率提高"
   ]
  },
  {
   "cell_type": "code",
   "execution_count": 273,
   "metadata": {},
   "outputs": [
    {
     "name": "stdout",
     "output_type": "stream",
     "text": [
      "1.8808617734465305\n",
      "1.4066397058164402\n",
      "1.2086921680674252\n",
      "1.077419263676783\n",
      "1.0068933794068324\n",
      "1.0010658760936635\n",
      "0.983687777756078\n",
      "0.9495168683909638\n",
      "0.9302636894799883\n",
      "0.9323215636293098\n",
      "0.9421294130263527\n",
      "0.954270165913303\n",
      "0.9232502688962718\n",
      "0.9174359883637099\n",
      "0.8978464069028531\n",
      "0.8946201422848692\n",
      "0.8806781818151539\n",
      "0.8896829973368379\n",
      "0.8828999167170078\n",
      "0.8841100248199867\n",
      "accuracy in train set 0.7763818181818182\n",
      "accuracy in test set 0.7782\n"
     ]
    },
    {
     "data": {
      "image/png": "[encoded data removed]",
      "text/plain": [
       "<Figure size 432x288 with 1 Axes>"
      ]
     },
     "metadata": {
      "needs_background": "light"
     },
     "output_type": "display_data"
    }
   ],
   "source": [
    "parameters,loss = nn_model(train_image, train_label,0.05,20,layer_dims,0,1,64,optimizer='momentum')\n",
    "print(\"accuracy in train set \"+str(accuracy(train_image,train_label,parameters)))\n",
    "print(\"accuracy in test set \"+str(accuracy(test_image,test_label,parameters)))"
   ]
  },
  {
   "cell_type": "code",
   "execution_count": 274,
   "metadata": {},
   "outputs": [
    {
     "name": "stdout",
     "output_type": "stream",
     "text": [
      "1.450099441194466\n",
      "1.1840498706210036\n",
      "0.9907502792842202\n",
      "0.8513849208558183\n",
      "0.7010617004746897\n",
      "0.626187667940145\n",
      "0.6104620364167853\n",
      "0.5945198384573185\n",
      "0.5818209370509622\n",
      "0.5799037515052519\n",
      "0.5812044937204983\n",
      "0.5961625848715102\n",
      "0.6076343173029176\n",
      "0.6132737128083714\n",
      "0.6199036817633818\n",
      "0.6271499294802068\n",
      "0.6242638228503423\n",
      "0.6284771017609798\n",
      "0.6195368315820823\n",
      "0.6165990142861122\n",
      "accuracy in train set 0.7566909090909091\n",
      "accuracy in test set 0.7556\n"
     ]
    },
    {
     "data": {
      "image/png": "[encoded data removed]",
      "text/plain": [
       "<Figure size 432x288 with 1 Axes>"
      ]
     },
     "metadata": {
      "needs_background": "light"
     },
     "output_type": "display_data"
    }
   ],
   "source": [
    "parameters,loss = nn_model(train_image, train_label,0.007,20,layer_dims,0,1,64,optimizer='RMSProp')\n",
    "print(\"accuracy in train set \"+str(accuracy(train_image,train_label,parameters)))\n",
    "print(\"accuracy in test set \"+str(accuracy(test_image,test_label,parameters)))"
   ]
  },
  {
   "cell_type": "code",
   "execution_count": 275,
   "metadata": {},
   "outputs": [
    {
     "name": "stdout",
     "output_type": "stream",
     "text": [
      "1.9271204691370674\n",
      "1.7796789454039939\n",
      "1.5866067503200703\n",
      "1.4443014713546511\n",
      "1.3141824385903473\n",
      "1.2198717279887017\n",
      "1.1427894829426686\n",
      "1.0757554759455736\n",
      "1.0062849814033088\n",
      "0.9351362329679019\n",
      "0.8726992491130274\n",
      "0.8167798642585368\n",
      "0.7695421279961759\n",
      "0.7266547542175723\n",
      "0.6914993455659213\n",
      "0.6637439623516337\n",
      "0.6452589436197316\n",
      "0.6310144847736022\n",
      "0.6206935967769438\n",
      "0.6110948455359241\n",
      "0.5998359787724394\n",
      "0.5939817044821079\n",
      "0.5866303721159919\n",
      "0.5799521738106378\n",
      "0.5756672328726502\n",
      "0.5690298965082201\n",
      "0.5671484146429785\n",
      "0.5479555584302334\n",
      "0.5438947651460794\n",
      "0.5418147383716561\n",
      "0.5397015754541732\n",
      "0.538851051362161\n",
      "0.5365728179045137\n",
      "0.5361802734799661\n",
      "0.5353351883314074\n",
      "0.5413579418185359\n",
      "0.5390611860562389\n",
      "0.540279696950103\n",
      "0.5353696749271549\n",
      "0.5388181535008971\n",
      "0.5368380987994437\n",
      "0.5346024922971709\n",
      "0.5339094848429633\n",
      "0.5335981350941803\n",
      "0.532891546102226\n",
      "0.5341472207964455\n",
      "0.5347870875628942\n",
      "0.532207057223194\n",
      "0.5348905425360843\n",
      "0.5319385321118193\n",
      "0.5322538806840189\n",
      "0.5317200084940509\n",
      "0.5305332159001088\n",
      "0.5300966888583669\n",
      "0.5311222910356893\n",
      "0.5304956514133967\n",
      "0.5292648892306359\n",
      "0.5305314057756765\n",
      "0.5262980217759403\n",
      "0.5275301777596831\n",
      "0.5256642083186023\n",
      "0.5261063782320444\n",
      "0.5258036244929929\n",
      "0.5242481533531805\n",
      "0.5210962041755817\n",
      "0.5194610072126322\n",
      "0.5193771380144201\n",
      "0.5208634859791993\n",
      "0.516365307464195\n",
      "0.5173877731017651\n",
      "0.5159830357828401\n",
      "0.5158050998367101\n",
      "0.5145285615628905\n",
      "0.5117861784765281\n",
      "0.5113396877829339\n",
      "0.5102967217396439\n",
      "0.50822433483616\n",
      "0.5095264441123573\n",
      "0.5059577853000765\n",
      "0.5067261861654526\n",
      "0.5044245444305857\n",
      "0.5056947838182813\n",
      "0.5043134554219381\n",
      "0.5042630317549156\n",
      "0.5021075919964941\n",
      "0.5044446448241549\n",
      "0.5002705653187691\n",
      "0.5006958931585357\n",
      "0.4986885058214684\n",
      "0.4971901346227289\n",
      "0.49533362978429746\n",
      "0.4957233292521659\n",
      "0.49598880026225456\n",
      "0.4945390955841691\n",
      "0.4933477477484315\n",
      "0.4911144462618777\n",
      "0.4867694327192621\n",
      "0.48795579323799326\n",
      "0.48791138275191803\n",
      "0.4915093529241111\n",
      "accuracy in train set 0.7971636363636364\n",
      "accuracy in test set 0.7896\n"
     ]
    },
    {
     "data": {
      "image/png": "[encoded data removed]",
      "text/plain": [
       "<Figure size 432x288 with 1 Axes>"
      ]
     },
     "metadata": {
      "needs_background": "light"
     },
     "output_type": "display_data"
    }
   ],
   "source": [
    "parameters,loss = nn_model(train_image, train_label,0.0007,100,layer_dims,0,1,64,optimizer='Adam')\n",
    "print(\"accuracy in train set \"+str(accuracy(train_image,train_label,parameters)))\n",
    "print(\"accuracy in test set \"+str(accuracy(test_image,test_label,parameters)))"
   ]
  },
  {
   "cell_type": "code",
   "execution_count": null,
   "metadata": {},
   "outputs": [],
   "source": []
  }
 ],
 "metadata": {
  "kernelspec": {
   "display_name": "Python 3",
   "language": "python",
   "name": "python3"
  },
  "language_info": {
   "codemirror_mode": {
    "name": "ipython",
    "version": 3
   },
   "file_extension": ".py",
   "mimetype": "text/x-python",
   "name": "python",
   "nbconvert_exporter": "python",
   "pygments_lexer": "ipython3",
   "version": "3.7.3"
  }
 },
 "nbformat": 4,
 "nbformat_minor": 2
}
