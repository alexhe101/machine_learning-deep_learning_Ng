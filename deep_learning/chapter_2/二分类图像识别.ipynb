{
 "cells": [
  {
   "cell_type": "code",
   "execution_count": 188,
   "metadata": {},
   "outputs": [],
   "source": [
    "#吴恩达深度学习第二周代码个人自实现\n",
    "#根据coursera协议，作业代码禁止上传至GitHub"
   ]
  },
  {
   "cell_type": "code",
   "execution_count": 189,
   "metadata": {},
   "outputs": [],
   "source": [
    "#导入相关数据\n",
    "import numpy as np\n",
    "import matplotlib.pyplot as plt\n",
    "import h5py"
   ]
  },
  {
   "cell_type": "code",
   "execution_count": 190,
   "metadata": {},
   "outputs": [],
   "source": [
    "#导入h5文件\n",
    "f = h5py.File(r\"C:\\Users\\alex\\Desktop\\train_catvnoncat.h5\",'r')"
   ]
  },
  {
   "cell_type": "code",
   "execution_count": 191,
   "metadata": {},
   "outputs": [
    {
     "name": "stdout",
     "output_type": "stream",
     "text": [
      "list_classes\n",
      "train_set_x\n",
      "train_set_y\n"
     ]
    }
   ],
   "source": [
    "#查看H5文件中的分组\n",
    "for group in f.keys():\n",
    "    print (group)"
   ]
  },
  {
   "cell_type": "code",
   "execution_count": 192,
   "metadata": {},
   "outputs": [],
   "source": [
    "train_set_ori_x = np.array(f['train_set_x'][:])\n",
    "train_set_ori_y = np.array(f['train_set_y'][:])"
   ]
  },
  {
   "cell_type": "code",
   "execution_count": 193,
   "metadata": {},
   "outputs": [],
   "source": [
    "f = h5py.File(r\"C:\\Users\\alex\\Desktop\\test_catvnoncat.h5\",'r')"
   ]
  },
  {
   "cell_type": "code",
   "execution_count": 194,
   "metadata": {},
   "outputs": [],
   "source": [
    "test_set_ori_x = np.array(f['test_set_x'][:])\n",
    "test_set_ori_y = np.array(f['test_set_y'][:])"
   ]
  },
  {
   "cell_type": "code",
   "execution_count": 195,
   "metadata": {},
   "outputs": [
    {
     "name": "stdout",
     "output_type": "stream",
     "text": [
      "(209, 64, 64, 3)\n",
      "(209,)\n"
     ]
    },
    {
     "data": {
      "text/plain": [
       "(50, 64, 64, 3)"
      ]
     },
     "execution_count": 195,
     "metadata": {},
     "output_type": "execute_result"
    }
   ],
   "source": [
    "#查看数据集组成\n",
    "print(train_set_ori_x.shape)\n",
    "print(train_set_ori_y.shape)\n",
    "test_set_ori_x.shape"
   ]
  },
  {
   "cell_type": "code",
   "execution_count": 196,
   "metadata": {},
   "outputs": [
    {
     "name": "stdout",
     "output_type": "stream",
     "text": [
      "(12288, 209)\n",
      "(1, 209)\n"
     ]
    }
   ],
   "source": [
    "#改变样本shape\n",
    "train_set_x = train_set_ori_x.reshape(train_set_ori_x.shape[0],-1).T\n",
    "train_set_y = train_set_ori_y.reshape(1,-1)\n",
    "test_set_x=test_set_ori_x.reshape(test_set_ori_x.shape[0],-1).T\n",
    "test_set_y = test_set_ori_y.reshape(1,-1)\n",
    "print(train_set_x.shape)\n",
    "print(train_set_y.shape)"
   ]
  },
  {
   "cell_type": "code",
   "execution_count": 197,
   "metadata": {},
   "outputs": [],
   "source": [
    "#数据预处理，统计样本个数及进行特征放缩\n",
    "train_set_x = train_set_x/255\n",
    "m = train_set_y.shape[1]\n",
    "test_set_x = test_set_x/255"
   ]
  },
  {
   "cell_type": "code",
   "execution_count": 198,
   "metadata": {},
   "outputs": [],
   "source": [
    "#设立sigmoid函数\n",
    "def sigmoid(x):\n",
    "    return 1/(1+np.exp(-x))"
   ]
  },
  {
   "cell_type": "code",
   "execution_count": 199,
   "metadata": {},
   "outputs": [],
   "source": [
    "#初始化参数 w,b\n",
    "w = np.zeros((train_set_x.shape[0],1))\n",
    "b= 0"
   ]
  },
  {
   "cell_type": "code",
   "execution_count": 200,
   "metadata": {},
   "outputs": [],
   "source": [
    "#进行前向传播\n",
    "def forward(x,w,b,y,m):\n",
    "    z = np.dot(w.T,x)+b\n",
    "    a = sigmoid(z)\n",
    "    J = -(1/m)*(np.dot(y,(np.log(a)).T)+np.dot(1-y,(np.log(1-a)).T))\n",
    "    J=np.squeeze(J)\n",
    "    return a,J"
   ]
  },
  {
   "cell_type": "code",
   "execution_count": 201,
   "metadata": {},
   "outputs": [],
   "source": [
    "#进行反向传播\n",
    "def backward(x,w,b,y,m,a,learning_rate):\n",
    "    dz = a-y\n",
    "    db = (1/m)*np.sum(dz)\n",
    "    dw = (1/m)*np.dot(x,dz.T)\n",
    "    w = w-learning_rate*dw\n",
    "    b = b-learning_rate*db\n",
    "    return w,b"
   ]
  },
  {
   "cell_type": "code",
   "execution_count": 202,
   "metadata": {},
   "outputs": [],
   "source": [
    "def predict(x,w,b,y):\n",
    "    z = np.dot(w.T,x)+b\n",
    "    a = sigmoid(z)\n",
    "    y_prediction = np.zeros((1,y.shape[1]))\n",
    "    for i in range(y.shape[1]):\n",
    "        if(a[0,i]>=0.5):\n",
    "            y_prediction[0,i] = 1\n",
    "        else:\n",
    "            y_prediction[0,i] = 0\n",
    "    return y_prediction"
   ]
  },
  {
   "cell_type": "code",
   "execution_count": 203,
   "metadata": {},
   "outputs": [
    {
     "name": "stdout",
     "output_type": "stream",
     "text": [
      "0.6931471805599453\n",
      "train accuracy: 34.44976076555024 %\n",
      "test accuracy: 66.0 %\n",
      "0.5845083636993086\n",
      "train accuracy: 67.94258373205741 %\n",
      "test accuracy: 84.0 %\n",
      "0.46694904094655476\n",
      "train accuracy: 83.25358851674642 %\n",
      "test accuracy: 80.0 %\n",
      "0.37600686694802077\n",
      "train accuracy: 88.51674641148325 %\n",
      "test accuracy: 72.0 %\n",
      "0.3314632893282512\n",
      "train accuracy: 91.38755980861244 %\n",
      "test accuracy: 68.0 %\n",
      "0.30327306747438293\n",
      "train accuracy: 92.3444976076555 %\n",
      "test accuracy: 74.0 %\n",
      "0.2798795865826048\n",
      "train accuracy: 93.77990430622009 %\n",
      "test accuracy: 74.0 %\n",
      "0.2600421369258757\n",
      "train accuracy: 95.2153110047847 %\n",
      "test accuracy: 74.0 %\n",
      "0.24294068467796623\n",
      "train accuracy: 95.69377990430623 %\n",
      "test accuracy: 74.0 %\n",
      "0.22800422256726066\n",
      "train accuracy: 96.17224880382776 %\n",
      "test accuracy: 74.0 %\n",
      "0.21481951378449635\n",
      "train accuracy: 96.65071770334929 %\n",
      "test accuracy: 72.0 %\n",
      "0.20307819060644988\n",
      "train accuracy: 97.12918660287082 %\n",
      "test accuracy: 70.0 %\n",
      "0.1925442771670686\n",
      "train accuracy: 97.12918660287082 %\n",
      "test accuracy: 70.0 %\n",
      "0.18303333796883503\n",
      "train accuracy: 97.60765550239235 %\n",
      "test accuracy: 70.0 %\n",
      "0.1743985943844888\n",
      "train accuracy: 97.60765550239235 %\n",
      "test accuracy: 70.0 %\n",
      "0.16652139705400332\n",
      "train accuracy: 97.60765550239235 %\n",
      "test accuracy: 70.0 %\n",
      "0.15930451829756614\n",
      "train accuracy: 98.08612440191388 %\n",
      "test accuracy: 70.0 %\n",
      "0.15266732471296504\n",
      "train accuracy: 98.56459330143541 %\n",
      "test accuracy: 70.0 %\n",
      "0.14654223503982342\n",
      "train accuracy: 98.56459330143541 %\n",
      "test accuracy: 70.0 %\n",
      "0.14087207570310162\n",
      "train accuracy: 98.56459330143541 %\n",
      "test accuracy: 70.0 %\n"
     ]
    }
   ],
   "source": [
    "#进行训练\n",
    "losses = []\n",
    "for i in range(2000):\n",
    "    a,J = forward(train_set_x,w,b,train_set_y,m)\n",
    "    losses.append(J)\n",
    "    y_prediction_train = predict(train_set_x,w,b,train_set_y)\n",
    "    y_prediction_test = predict(test_set_x,w,b,test_set_y)\n",
    "    w,b=backward(train_set_x,w,b,train_set_y,m,a,0.005)\n",
    "    if(i%100==0):\n",
    "        print(J)\n",
    "        print('train accuracy: {} %'.format(100-np.mean(np.abs(y_prediction_train-train_set_y))*100))\n",
    "        print('test accuracy: {} %'.format(100-np.mean(np.abs(y_prediction_test-test_set_y))*100))"
   ]
  },
  {
   "cell_type": "code",
   "execution_count": 204,
   "metadata": {},
   "outputs": [
    {
     "data": {
      "text/plain": [
       "[<matplotlib.lines.Line2D at 0x1fa318f2518>]"
      ]
     },
     "execution_count": 204,
     "metadata": {},
     "output_type": "execute_result"
    },
    {
     "data": {
      "image/png": "[encoded data removed]",
      "text/plain": [
       "<Figure size 432x288 with 1 Axes>"
      ]
     },
     "metadata": {
      "needs_background": "light"
     },
     "output_type": "display_data"
    }
   ],
   "source": [
    "plt.plot(losses)"
   ]
  },
  {
   "cell_type": "code",
   "execution_count": null,
   "metadata": {},
   "outputs": [],
   "source": []
  }
 ],
 "metadata": {
  "kernelspec": {
   "display_name": "Python 3",
   "language": "python",
   "name": "python3"
  },
  "language_info": {
   "codemirror_mode": {
    "name": "ipython",
    "version": 3
   },
   "file_extension": ".py",
   "mimetype": "text/x-python",
   "name": "python",
   "nbconvert_exporter": "python",
   "pygments_lexer": "ipython3",
   "version": "3.7.3"
  }
 },
 "nbformat": 4,
 "nbformat_minor": 2
}
