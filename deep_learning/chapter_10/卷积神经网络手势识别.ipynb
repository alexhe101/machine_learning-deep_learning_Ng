{
 "cells": [
  {
   "cell_type": "code",
   "execution_count": 2,
   "metadata": {},
   "outputs": [],
   "source": [
    "#tensorflow2.0手势识别\n",
    "import tensorflow as tf\n",
    "import numpy as np\n",
    "import matplotlib.pyplot as plt\n",
    "from tensorflow import keras\n",
    "import h5py"
   ]
  },
  {
   "cell_type": "code",
   "execution_count": 28,
   "metadata": {},
   "outputs": [],
   "source": [
    "def load_dataset():\n",
    "    train_dataset = h5py.File(r'C:\\Users\\alex\\Desktop\\train_signs.h5', \"r\")\n",
    "    train_set_x_orig = np.array(train_dataset[\"train_set_x\"][:]) # your train set features\n",
    "    train_set_y_orig = np.array(train_dataset[\"train_set_y\"][:]) # your train set labels\n",
    "\n",
    "    test_dataset = h5py.File(r'C:\\Users\\alex\\Desktop\\test_signs.h5', \"r\")\n",
    "    test_set_x_orig = np.array(test_dataset[\"test_set_x\"][:]) # your test set features\n",
    "    test_set_y_orig = np.array(test_dataset[\"test_set_y\"][:]) # your test set labels\n",
    "\n",
    "    classes = np.array(test_dataset[\"list_classes\"][:]) # the list of classes\n",
    "    \n",
    "    train_set_y_orig = train_set_y_orig.reshape((1, train_set_y_orig.shape[0]))\n",
    "    test_set_y_orig = test_set_y_orig.reshape((1, test_set_y_orig.shape[0]))\n",
    "    \n",
    "    return train_set_x_orig, train_set_y_orig, test_set_x_orig, test_set_y_orig, classes"
   ]
  },
  {
   "cell_type": "code",
   "execution_count": 29,
   "metadata": {},
   "outputs": [],
   "source": [
    "train_set_x_ori,train_set_y_ori,test_set_x_ori,test_set_y_ori,classes = load_dataset()"
   ]
  },
  {
   "cell_type": "code",
   "execution_count": 30,
   "metadata": {},
   "outputs": [
    {
     "name": "stdout",
     "output_type": "stream",
     "text": [
      "(1080, 64, 64, 3)\n",
      "(1, 1080)\n"
     ]
    }
   ],
   "source": [
    "print(train_set_x_ori.shape)\n",
    "print(train_set_y_ori.shape)"
   ]
  },
  {
   "cell_type": "code",
   "execution_count": 31,
   "metadata": {},
   "outputs": [],
   "source": [
    "train_set_x = train_set_x_ori/255"
   ]
  },
  {
   "cell_type": "code",
   "execution_count": 32,
   "metadata": {},
   "outputs": [],
   "source": [
    "test_set_x = test_set_x_ori/255\n",
    "test_set_y = test_set_y_ori.reshape(test_set_y_ori[0].shape,)"
   ]
  },
  {
   "cell_type": "code",
   "execution_count": 33,
   "metadata": {},
   "outputs": [
    {
     "name": "stdout",
     "output_type": "stream",
     "text": [
      "(1080,)\n"
     ]
    }
   ],
   "source": [
    "train_set_y = train_set_y_ori.reshape(1080,)\n",
    "print(train_set_y.shape)"
   ]
  },
  {
   "cell_type": "code",
   "execution_count": 61,
   "metadata": {},
   "outputs": [],
   "source": [
    "model = keras.models.Sequential()"
   ]
  },
  {
   "cell_type": "code",
   "execution_count": 62,
   "metadata": {},
   "outputs": [],
   "source": [
    "model.add(keras.layers.Conv2D(8, (4, 4), activation='relu',padding='same',input_shape=(64, 64, 3)))"
   ]
  },
  {
   "cell_type": "code",
   "execution_count": 63,
   "metadata": {},
   "outputs": [],
   "source": [
    "model.add(keras.layers.MaxPooling2D((8,8),strides=(8,8),padding='same'))"
   ]
  },
  {
   "cell_type": "code",
   "execution_count": 64,
   "metadata": {},
   "outputs": [],
   "source": [
    "model.add(keras.layers.Conv2D(16, (2, 2), activation='relu',padding='same'))"
   ]
  },
  {
   "cell_type": "code",
   "execution_count": 65,
   "metadata": {},
   "outputs": [],
   "source": [
    "model.add(keras.layers.MaxPooling2D((4,4),strides=(4,4),padding='same'))"
   ]
  },
  {
   "cell_type": "code",
   "execution_count": null,
   "metadata": {},
   "outputs": [],
   "source": []
  },
  {
   "cell_type": "code",
   "execution_count": 66,
   "metadata": {},
   "outputs": [
    {
     "name": "stdout",
     "output_type": "stream",
     "text": [
      "Model: \"sequential_4\"\n",
      "_________________________________________________________________\n",
      "Layer (type)                 Output Shape              Param #   \n",
      "=================================================================\n",
      "conv2d_14 (Conv2D)           (None, 64, 64, 8)         392       \n",
      "_________________________________________________________________\n",
      "max_pooling2d_4 (MaxPooling2 (None, 8, 8, 8)           0         \n",
      "_________________________________________________________________\n",
      "conv2d_15 (Conv2D)           (None, 8, 8, 16)          528       \n",
      "_________________________________________________________________\n",
      "max_pooling2d_5 (MaxPooling2 (None, 2, 2, 16)          0         \n",
      "=================================================================\n",
      "Total params: 920\n",
      "Trainable params: 920\n",
      "Non-trainable params: 0\n",
      "_________________________________________________________________\n"
     ]
    }
   ],
   "source": [
    "model.summary()"
   ]
  },
  {
   "cell_type": "code",
   "execution_count": 67,
   "metadata": {},
   "outputs": [],
   "source": [
    "model.add(keras.layers.Flatten())\n",
    "model.add(keras.layers.Dense(6, activation='softmax'))"
   ]
  },
  {
   "cell_type": "code",
   "execution_count": 68,
   "metadata": {},
   "outputs": [
    {
     "name": "stdout",
     "output_type": "stream",
     "text": [
      "Model: \"sequential_4\"\n",
      "_________________________________________________________________\n",
      "Layer (type)                 Output Shape              Param #   \n",
      "=================================================================\n",
      "conv2d_14 (Conv2D)           (None, 64, 64, 8)         392       \n",
      "_________________________________________________________________\n",
      "max_pooling2d_4 (MaxPooling2 (None, 8, 8, 8)           0         \n",
      "_________________________________________________________________\n",
      "conv2d_15 (Conv2D)           (None, 8, 8, 16)          528       \n",
      "_________________________________________________________________\n",
      "max_pooling2d_5 (MaxPooling2 (None, 2, 2, 16)          0         \n",
      "_________________________________________________________________\n",
      "flatten_3 (Flatten)          (None, 64)                0         \n",
      "_________________________________________________________________\n",
      "dense_5 (Dense)              (None, 6)                 390       \n",
      "=================================================================\n",
      "Total params: 1,310\n",
      "Trainable params: 1,310\n",
      "Non-trainable params: 0\n",
      "_________________________________________________________________\n"
     ]
    }
   ],
   "source": [
    "model.summary()"
   ]
  },
  {
   "cell_type": "code",
   "execution_count": 69,
   "metadata": {},
   "outputs": [],
   "source": [
    "adam = keras.optimizers.Adam(lr=0.009, beta_1=0.9, beta_2=0.999, epsilon=None, decay=0.0, amsgrad=False)"
   ]
  },
  {
   "cell_type": "code",
   "execution_count": 70,
   "metadata": {},
   "outputs": [],
   "source": [
    "model.compile(optimizer='adam',\n",
    "              loss='sparse_categorical_crossentropy',\n",
    "              metrics=['accuracy'])"
   ]
  },
  {
   "cell_type": "code",
   "execution_count": 71,
   "metadata": {},
   "outputs": [
    {
     "name": "stdout",
     "output_type": "stream",
     "text": [
      "Train on 1080 samples\n",
      "Epoch 1/100\n",
      "1080/1080 [==============================] - 1s 961us/sample - loss: 1.8071 - accuracy: 0.1676\n",
      "Epoch 2/100\n",
      "1080/1080 [==============================] - 1s 626us/sample - loss: 1.7904 - accuracy: 0.1611\n",
      "Epoch 3/100\n",
      "1080/1080 [==============================] - 1s 627us/sample - loss: 1.7865 - accuracy: 0.1824\n",
      "Epoch 4/100\n",
      "1080/1080 [==============================] - 1s 633us/sample - loss: 1.7829 - accuracy: 0.2315\n",
      "Epoch 5/100\n",
      "1080/1080 [==============================] - 1s 628us/sample - loss: 1.7798 - accuracy: 0.2593\n",
      "Epoch 6/100\n",
      "1080/1080 [==============================] - 1s 618us/sample - loss: 1.7757 - accuracy: 0.2657\n",
      "Epoch 7/100\n",
      "1080/1080 [==============================] - 1s 677us/sample - loss: 1.7743 - accuracy: 0.2676\n",
      "Epoch 8/100\n",
      "1080/1080 [==============================] - 1s 649us/sample - loss: 1.7689 - accuracy: 0.3120\n",
      "Epoch 9/100\n",
      "1080/1080 [==============================] - 1s 665us/sample - loss: 1.7639 - accuracy: 0.3037\n",
      "Epoch 10/100\n",
      "1080/1080 [==============================] - 1s 692us/sample - loss: 1.7607 - accuracy: 0.3426\n",
      "Epoch 11/100\n",
      "1080/1080 [==============================] - 1s 676us/sample - loss: 1.7528 - accuracy: 0.3333\n",
      "Epoch 12/100\n",
      "1080/1080 [==============================] - 1s 706us/sample - loss: 1.7480 - accuracy: 0.3074\n",
      "Epoch 13/100\n",
      "1080/1080 [==============================] - 1s 736us/sample - loss: 1.7389 - accuracy: 0.3306\n",
      "Epoch 14/100\n",
      "1080/1080 [==============================] - 1s 744us/sample - loss: 1.7291 - accuracy: 0.3750\n",
      "Epoch 15/100\n",
      "1080/1080 [==============================] - 1s 731us/sample - loss: 1.7166 - accuracy: 0.3620\n",
      "Epoch 16/100\n",
      "1080/1080 [==============================] - 1s 754us/sample - loss: 1.7137 - accuracy: 0.3574\n",
      "Epoch 17/100\n",
      "1080/1080 [==============================] - 1s 705us/sample - loss: 1.6846 - accuracy: 0.4028\n",
      "Epoch 18/100\n",
      "1080/1080 [==============================] - 1s 726us/sample - loss: 1.6631 - accuracy: 0.4639\n",
      "Epoch 19/100\n",
      "1080/1080 [==============================] - 1s 735us/sample - loss: 1.6365 - accuracy: 0.4861\n",
      "Epoch 20/100\n",
      "1080/1080 [==============================] - 1s 793us/sample - loss: 1.6092 - accuracy: 0.4824\n",
      "Epoch 21/100\n",
      "1080/1080 [==============================] - 1s 690us/sample - loss: 1.5763 - accuracy: 0.4935\n",
      "Epoch 22/100\n",
      "1080/1080 [==============================] - 1s 673us/sample - loss: 1.5403 - accuracy: 0.5333\n",
      "Epoch 23/100\n",
      "1080/1080 [==============================] - 1s 718us/sample - loss: 1.5161 - accuracy: 0.4741\n",
      "Epoch 24/100\n",
      "1080/1080 [==============================] - 1s 675us/sample - loss: 1.4678 - accuracy: 0.5213\n",
      "Epoch 25/100\n",
      "1080/1080 [==============================] - 1s 688us/sample - loss: 1.4169 - accuracy: 0.5602\n",
      "Epoch 26/100\n",
      "1080/1080 [==============================] - 1s 698us/sample - loss: 1.3659 - accuracy: 0.6046\n",
      "Epoch 27/100\n",
      "1080/1080 [==============================] - 1s 639us/sample - loss: 1.3338 - accuracy: 0.5926\n",
      "Epoch 28/100\n",
      "1080/1080 [==============================] - 1s 666us/sample - loss: 1.2827 - accuracy: 0.6139\n",
      "Epoch 29/100\n",
      "1080/1080 [==============================] - 1s 651us/sample - loss: 1.2299 - accuracy: 0.6648\n",
      "Epoch 30/100\n",
      "1080/1080 [==============================] - 1s 666us/sample - loss: 1.1897 - accuracy: 0.6537\n",
      "Epoch 31/100\n",
      "1080/1080 [==============================] - 1s 661us/sample - loss: 1.1507 - accuracy: 0.6491\n",
      "Epoch 32/100\n",
      "1080/1080 [==============================] - 1s 683us/sample - loss: 1.1272 - accuracy: 0.6537\n",
      "Epoch 33/100\n",
      "1080/1080 [==============================] - 1s 682us/sample - loss: 1.0724 - accuracy: 0.6722\n",
      "Epoch 34/100\n",
      "1080/1080 [==============================] - 1s 689us/sample - loss: 1.0456 - accuracy: 0.6713\n",
      "Epoch 35/100\n",
      "1080/1080 [==============================] - 1s 704us/sample - loss: 1.0061 - accuracy: 0.6870\n",
      "Epoch 36/100\n",
      "1080/1080 [==============================] - 1s 682us/sample - loss: 0.9770 - accuracy: 0.7231\n",
      "Epoch 37/100\n",
      "1080/1080 [==============================] - 1s 745us/sample - loss: 0.9532 - accuracy: 0.7074\n",
      "Epoch 38/100\n",
      "1080/1080 [==============================] - 1s 754us/sample - loss: 0.9188 - accuracy: 0.7306\n",
      "Epoch 39/100\n",
      "1080/1080 [==============================] - 1s 702us/sample - loss: 0.8999 - accuracy: 0.7296\n",
      "Epoch 40/100\n",
      "1080/1080 [==============================] - 1s 685us/sample - loss: 0.8849 - accuracy: 0.7407\n",
      "Epoch 41/100\n",
      "1080/1080 [==============================] - 1s 671us/sample - loss: 0.8566 - accuracy: 0.7583\n",
      "Epoch 42/100\n",
      "1080/1080 [==============================] - 1s 680us/sample - loss: 0.8389 - accuracy: 0.7435\n",
      "Epoch 43/100\n",
      "1080/1080 [==============================] - 1s 709us/sample - loss: 0.8180 - accuracy: 0.7676\n",
      "Epoch 44/100\n",
      "1080/1080 [==============================] - 1s 694us/sample - loss: 0.8014 - accuracy: 0.7620\n",
      "Epoch 45/100\n",
      "1080/1080 [==============================] - 1s 664us/sample - loss: 0.7772 - accuracy: 0.7676\n",
      "Epoch 46/100\n",
      "1080/1080 [==============================] - 1s 664us/sample - loss: 0.7637 - accuracy: 0.7750\n",
      "Epoch 47/100\n",
      "1080/1080 [==============================] - 1s 663us/sample - loss: 0.7475 - accuracy: 0.7722\n",
      "Epoch 48/100\n",
      "1080/1080 [==============================] - 1s 1ms/sample - loss: 0.7363 - accuracy: 0.7833\n",
      "Epoch 49/100\n",
      "1080/1080 [==============================] - 1s 681us/sample - loss: 0.7215 - accuracy: 0.7806\n",
      "Epoch 50/100\n",
      "1080/1080 [==============================] - 1s 682us/sample - loss: 0.7007 - accuracy: 0.7963\n",
      "Epoch 51/100\n",
      "1080/1080 [==============================] - 1s 673us/sample - loss: 0.6954 - accuracy: 0.7981\n",
      "Epoch 52/100\n",
      "1080/1080 [==============================] - 1s 666us/sample - loss: 0.6916 - accuracy: 0.7926\n",
      "Epoch 53/100\n",
      "1080/1080 [==============================] - 1s 672us/sample - loss: 0.6847 - accuracy: 0.7917\n",
      "Epoch 54/100\n",
      "1080/1080 [==============================] - 1s 682us/sample - loss: 0.6768 - accuracy: 0.8028\n",
      "Epoch 55/100\n",
      "1080/1080 [==============================] - 1s 706us/sample - loss: 0.6555 - accuracy: 0.8120\n",
      "Epoch 56/100\n",
      "1080/1080 [==============================] - 1s 737us/sample - loss: 0.6390 - accuracy: 0.8083\n",
      "Epoch 57/100\n",
      "1080/1080 [==============================] - 1s 739us/sample - loss: 0.6280 - accuracy: 0.8213\n",
      "Epoch 58/100\n",
      "1080/1080 [==============================] - 1s 804us/sample - loss: 0.6187 - accuracy: 0.8148\n",
      "Epoch 59/100\n",
      "1080/1080 [==============================] - 1s 670us/sample - loss: 0.6227 - accuracy: 0.8167\n",
      "Epoch 60/100\n",
      "1080/1080 [==============================] - 1s 711us/sample - loss: 0.6105 - accuracy: 0.8139\n",
      "Epoch 61/100\n",
      "1080/1080 [==============================] - 1s 713us/sample - loss: 0.6049 - accuracy: 0.8241\n",
      "Epoch 62/100\n",
      "1080/1080 [==============================] - 1s 697us/sample - loss: 0.6015 - accuracy: 0.8185\n",
      "Epoch 63/100\n",
      "1080/1080 [==============================] - 1s 649us/sample - loss: 0.5740 - accuracy: 0.8389\n",
      "Epoch 64/100\n",
      "1080/1080 [==============================] - 1s 683us/sample - loss: 0.5693 - accuracy: 0.8426\n",
      "Epoch 65/100\n",
      "1080/1080 [==============================] - 1s 675us/sample - loss: 0.5558 - accuracy: 0.8287\n",
      "Epoch 66/100\n",
      "1080/1080 [==============================] - 1s 669us/sample - loss: 0.5597 - accuracy: 0.8269 - loss: 0.5743 - accuracy\n",
      "Epoch 67/100\n",
      "1080/1080 [==============================] - 1s 663us/sample - loss: 0.5437 - accuracy: 0.8352\n",
      "Epoch 68/100\n",
      "1080/1080 [==============================] - 1s 685us/sample - loss: 0.5292 - accuracy: 0.8435\n",
      "Epoch 69/100\n",
      "1080/1080 [==============================] - 1s 675us/sample - loss: 0.5473 - accuracy: 0.8222\n",
      "Epoch 70/100\n",
      "1080/1080 [==============================] - 1s 667us/sample - loss: 0.5266 - accuracy: 0.8306\n",
      "Epoch 71/100\n",
      "1080/1080 [==============================] - 1s 650us/sample - loss: 0.5096 - accuracy: 0.8509\n",
      "Epoch 72/100\n",
      "1080/1080 [==============================] - 1s 674us/sample - loss: 0.5054 - accuracy: 0.8537\n",
      "Epoch 73/100\n",
      "1080/1080 [==============================] - 1s 670us/sample - loss: 0.5061 - accuracy: 0.8463\n",
      "Epoch 74/100\n",
      "1080/1080 [==============================] - 1s 709us/sample - loss: 0.4949 - accuracy: 0.8630\n",
      "Epoch 75/100\n",
      "1080/1080 [==============================] - 1s 727us/sample - loss: 0.4855 - accuracy: 0.8602\n",
      "Epoch 76/100\n"
     ]
    },
    {
     "name": "stdout",
     "output_type": "stream",
     "text": [
      "1080/1080 [==============================] - 1s 676us/sample - loss: 0.4791 - accuracy: 0.8639\n",
      "Epoch 77/100\n",
      "1080/1080 [==============================] - 1s 705us/sample - loss: 0.4663 - accuracy: 0.8630\n",
      "Epoch 78/100\n",
      "1080/1080 [==============================] - 1s 673us/sample - loss: 0.4676 - accuracy: 0.8583\n",
      "Epoch 79/100\n",
      "1080/1080 [==============================] - 1s 723us/sample - loss: 0.4605 - accuracy: 0.8565\n",
      "Epoch 80/100\n",
      "1080/1080 [==============================] - 1s 754us/sample - loss: 0.4647 - accuracy: 0.8648\n",
      "Epoch 81/100\n",
      "1080/1080 [==============================] - 1s 692us/sample - loss: 0.4489 - accuracy: 0.8722\n",
      "Epoch 82/100\n",
      "1080/1080 [==============================] - 1s 692us/sample - loss: 0.4444 - accuracy: 0.8787\n",
      "Epoch 83/100\n",
      "1080/1080 [==============================] - 1s 659us/sample - loss: 0.4390 - accuracy: 0.8722\n",
      "Epoch 84/100\n",
      "1080/1080 [==============================] - 1s 645us/sample - loss: 0.4354 - accuracy: 0.8694\n",
      "Epoch 85/100\n",
      "1080/1080 [==============================] - 1s 652us/sample - loss: 0.4412 - accuracy: 0.8620\n",
      "Epoch 86/100\n",
      "1080/1080 [==============================] - 1s 670us/sample - loss: 0.4235 - accuracy: 0.8787\n",
      "Epoch 87/100\n",
      "1080/1080 [==============================] - 1s 671us/sample - loss: 0.4235 - accuracy: 0.8769\n",
      "Epoch 88/100\n",
      "1080/1080 [==============================] - 1s 654us/sample - loss: 0.4256 - accuracy: 0.8722\n",
      "Epoch 89/100\n",
      "1080/1080 [==============================] - 1s 634us/sample - loss: 0.4189 - accuracy: 0.8685\n",
      "Epoch 90/100\n",
      "1080/1080 [==============================] - 1s 673us/sample - loss: 0.4143 - accuracy: 0.8713\n",
      "Epoch 91/100\n",
      "1080/1080 [==============================] - 1s 637us/sample - loss: 0.4085 - accuracy: 0.8806\n",
      "Epoch 92/100\n",
      "1080/1080 [==============================] - 1s 665us/sample - loss: 0.4086 - accuracy: 0.8824\n",
      "Epoch 93/100\n",
      "1080/1080 [==============================] - 1s 646us/sample - loss: 0.3930 - accuracy: 0.8843\n",
      "Epoch 94/100\n",
      "1080/1080 [==============================] - 1s 652us/sample - loss: 0.3955 - accuracy: 0.8787\n",
      "Epoch 95/100\n",
      "1080/1080 [==============================] - 1s 639us/sample - loss: 0.3979 - accuracy: 0.8870\n",
      "Epoch 96/100\n",
      "1080/1080 [==============================] - 1s 628us/sample - loss: 0.3839 - accuracy: 0.8861\n",
      "Epoch 97/100\n",
      "1080/1080 [==============================] - 1s 644us/sample - loss: 0.3780 - accuracy: 0.8833\n",
      "Epoch 98/100\n",
      "1080/1080 [==============================] - 1s 692us/sample - loss: 0.3743 - accuracy: 0.8889\n",
      "Epoch 99/100\n",
      "1080/1080 [==============================] - 1s 716us/sample - loss: 0.3688 - accuracy: 0.8898\n",
      "Epoch 100/100\n",
      "1080/1080 [==============================] - 1s 663us/sample - loss: 0.3740 - accuracy: 0.8833\n"
     ]
    }
   ],
   "source": [
    "history=model.fit(train_set_x,train_set_y,batch_size=64,epochs=100)"
   ]
  },
  {
   "cell_type": "code",
   "execution_count": 72,
   "metadata": {},
   "outputs": [
    {
     "name": "stdout",
     "output_type": "stream",
     "text": [
      "1080/1 - 0s - loss: 0.3042 - accuracy: 0.8917\n",
      "120/1 - 0s - loss: 0.4471 - accuracy: 0.8250\n"
     ]
    },
    {
     "data": {
      "text/plain": [
       "[0.4501450041929881, 0.825]"
      ]
     },
     "execution_count": 72,
     "metadata": {},
     "output_type": "execute_result"
    }
   ],
   "source": [
    "model.evaluate(train_set_x,train_set_y,verbose=2)\n",
    "model.evaluate(test_set_x,test_set_y,verbose=2)"
   ]
  },
  {
   "cell_type": "code",
   "execution_count": null,
   "metadata": {},
   "outputs": [],
   "source": []
  }
 ],
 "metadata": {
  "kernelspec": {
   "display_name": "Python 3",
   "language": "python",
   "name": "python3"
  },
  "language_info": {
   "codemirror_mode": {
    "name": "ipython",
    "version": 3
   },
   "file_extension": ".py",
   "mimetype": "text/x-python",
   "name": "python",
   "nbconvert_exporter": "python",
   "pygments_lexer": "ipython3",
   "version": "3.7.4"
  }
 },
 "nbformat": 4,
 "nbformat_minor": 2
}
