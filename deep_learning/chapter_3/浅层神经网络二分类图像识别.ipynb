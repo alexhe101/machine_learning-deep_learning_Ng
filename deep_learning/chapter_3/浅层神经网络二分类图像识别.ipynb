{
 "cells": [
  {
   "cell_type": "code",
   "execution_count": 1,
   "metadata": {},
   "outputs": [],
   "source": [
    "#用浅层神经网络实现二分类图像识别"
   ]
  },
  {
   "cell_type": "code",
   "execution_count": 93,
   "metadata": {},
   "outputs": [],
   "source": [
    "#导入相关模块\n",
    "import numpy as np\n",
    "import matplotlib.pyplot as plt\n",
    "import h5py"
   ]
  },
  {
   "cell_type": "code",
   "execution_count": 111,
   "metadata": {},
   "outputs": [],
   "source": [
    "#使用两层神经网络，使用relu函数和sigmoid函数，第一层n_h节点\n",
    "def init_paramters(n_x,n_h,n_y):\n",
    "    paramters = {}\n",
    "    W1 = np.random.rand(n_h,n_x)*0.01\n",
    "    b1 = np.zeros((n_h,1))\n",
    "    W2 = np.random.rand(n_y,n_h)*0.01\n",
    "    b2 = np.zeros((n_y,1))\n",
    "    paramters['W1'] = W1\n",
    "    paramters['b1'] = b1\n",
    "    paramters['W2'] = W2\n",
    "    paramters['b2'] = b2\n",
    "    return paramters"
   ]
  },
  {
   "cell_type": "code",
   "execution_count": 112,
   "metadata": {},
   "outputs": [],
   "source": [
    "def relu(x):\n",
    "    return (abs(x)+x)/2"
   ]
  },
  {
   "cell_type": "code",
   "execution_count": 113,
   "metadata": {},
   "outputs": [],
   "source": [
    "def sigmoid(x):\n",
    "    return 1/(1+np.exp(-x))"
   ]
  },
  {
   "cell_type": "code",
   "execution_count": 114,
   "metadata": {},
   "outputs": [],
   "source": [
    "#进行前向传播\n",
    "def forward(X,paramters):\n",
    "    caches = {}\n",
    "    W1 = paramters['W1']\n",
    "    b1 = paramters['b1']\n",
    "    W2 = paramters['W2']\n",
    "    b2 = paramters['b2']\n",
    "    Z1 = np.dot(W1,X)+b1\n",
    "    caches['Z1'] = Z1\n",
    "    A1 = relu(Z1)\n",
    "    caches['A1'] = A1\n",
    "    Z2 = np.dot(W2,A1)+b2\n",
    "    caches['Z2'] = Z2\n",
    "    A2 = sigmoid(Z2)\n",
    "    caches['A2'] = A2\n",
    "    return caches"
   ]
  },
  {
   "cell_type": "code",
   "execution_count": 115,
   "metadata": {},
   "outputs": [],
   "source": [
    "#计算损失函数\n",
    "def computeCost(A,Y):\n",
    "    return (-1/A.shape[1])*np.sum((Y*np.log(A))+(1-Y)*np.log(1-A))"
   ]
  },
  {
   "cell_type": "code",
   "execution_count": 116,
   "metadata": {},
   "outputs": [],
   "source": [
    "#进行反向传播计算\n",
    "def backward(X,caches,Y,paramters):\n",
    "    m = Y.shape[1]\n",
    "    A2 = caches['A2']\n",
    "    Z2 = caches['Z2']\n",
    "    A1 = caches['A1']\n",
    "    W2=  paramters['W2']\n",
    "    dZ2 = A2-Y\n",
    "    dW2 = (1/m)*np.dot(dZ2,A1.T)\n",
    "    db2 = (1/m)*np.sum(dZ2,axis=1,keepdims=True)\n",
    "    dA1 = np.dot(W2.T,dZ2)\n",
    "    dZ1 = dA1\n",
    "    dW1 = (1/m)*np.dot(dZ1,X.T)\n",
    "    db1 = (1/m)*np.sum(dZ1,axis = 1,keepdims=True)\n",
    "    dercaches ={}\n",
    "    dercaches['dW2'] = dW2\n",
    "    dercaches['db2'] = db2\n",
    "    dercaches['dW1'] = dW1\n",
    "    dercaches['db1'] = db1\n",
    "    return dercaches"
   ]
  },
  {
   "cell_type": "code",
   "execution_count": 117,
   "metadata": {},
   "outputs": [],
   "source": [
    "#更新参数\n",
    "def update_paramters(paramters,dercaches,learning_rate):\n",
    "    paramters['W1'] = paramters['W1']-learning_rate*dercaches['dW1']\n",
    "    paramters['b1'] = paramters['b1']-learning_rate*dercaches['db1']\n",
    "    paramters['W2'] = paramters['W2']-learning_rate*dercaches['dW2']\n",
    "    paramters['b2'] = paramters['b2']-learning_rate*dercaches['db2']\n",
    "    return paramters"
   ]
  },
  {
   "cell_type": "code",
   "execution_count": 149,
   "metadata": {},
   "outputs": [],
   "source": [
    "def predict(X,y,paramters):\n",
    "    caches = forward(X,paramters)    \n",
    "    a = caches['A2']\n",
    "    y_prediction = np.zeros((1,y.shape[1]))\n",
    "    for i in range(y.shape[1]):\n",
    "        if(a[0,i]>=0.5):\n",
    "            y_prediction[0,i] = 1\n",
    "        else:\n",
    "            y_prediction[0,i] = 0\n",
    "    return y_prediction"
   ]
  },
  {
   "cell_type": "code",
   "execution_count": 163,
   "metadata": {},
   "outputs": [],
   "source": [
    "#建立浅层神经网络模型\n",
    "def nn_model(X,Y,learning_rate,iterations):\n",
    "    losses = []\n",
    "    n_x=  X.shape[0]\n",
    "    n_h = 4\n",
    "    n_y = Y.shape[0]\n",
    "    paramters = init_paramters(n_x,n_h,n_y)\n",
    "    for i in range(iterations):\n",
    "        caches = forward(X,paramters)\n",
    "        cost = computeCost(caches['A2'],Y)\n",
    "        dercaches = backward(X,caches,Y,paramters)\n",
    "        paramters  = update_paramters(paramters,dercaches,learning_rate)\n",
    "        losses.append(cost)\n",
    "        if(i%100==0):\n",
    "            print(cost)\n",
    "    return paramters,losses"
   ]
  },
  {
   "cell_type": "code",
   "execution_count": 151,
   "metadata": {},
   "outputs": [],
   "source": [
    "f = h5py.File(r\"C:\\Users\\alex\\Desktop\\train_catvnoncat.h5\",'r')"
   ]
  },
  {
   "cell_type": "code",
   "execution_count": 152,
   "metadata": {},
   "outputs": [],
   "source": [
    "train_set_ori_x = np.array(f['train_set_x'][:])\n",
    "train_set_ori_y = np.array(f['train_set_y'][:])"
   ]
  },
  {
   "cell_type": "code",
   "execution_count": 153,
   "metadata": {},
   "outputs": [],
   "source": [
    "f = h5py.File(r\"C:\\Users\\alex\\Desktop\\test_catvnoncat.h5\",'r')"
   ]
  },
  {
   "cell_type": "code",
   "execution_count": 154,
   "metadata": {},
   "outputs": [],
   "source": [
    "test_set_ori_x = np.array(f['test_set_x'][:])\n",
    "test_set_ori_y = np.array(f['test_set_y'][:])"
   ]
  },
  {
   "cell_type": "code",
   "execution_count": 155,
   "metadata": {},
   "outputs": [],
   "source": [
    "train_set_x = train_set_ori_x.reshape(train_set_ori_x.shape[0],-1).T\n",
    "train_set_y = train_set_ori_y.reshape(1,-1)\n",
    "test_set_x=test_set_ori_x.reshape(test_set_ori_x.shape[0],-1).T\n",
    "test_set_y = test_set_ori_y.reshape(1,-1)"
   ]
  },
  {
   "cell_type": "code",
   "execution_count": 156,
   "metadata": {},
   "outputs": [],
   "source": [
    "train_set_x = train_set_x/255\n",
    "m = train_set_y.shape[1]\n",
    "test_set_x = test_set_x/255"
   ]
  },
  {
   "cell_type": "code",
   "execution_count": 173,
   "metadata": {},
   "outputs": [
    {
     "name": "stdout",
     "output_type": "stream",
     "text": [
      "0.7737491830200948\n",
      "0.7109053449997434\n",
      "0.6619208970951497\n",
      "0.653813189200036\n",
      "0.6523479516463687\n",
      "0.6516448772965442\n",
      "0.6506773814464442\n",
      "0.6487075024938642\n",
      "0.644341286487446\n",
      "0.6432704759003351\n",
      "0.6279816255456812\n",
      "0.6053684658875003\n",
      "0.5771133009193178\n",
      "0.5455296831548249\n",
      "0.5119445179124789\n",
      "0.47745719717157725\n",
      "0.4431055783728172\n",
      "0.4094105898863075\n",
      "0.3766538418291505\n",
      "0.3450517681943573\n"
     ]
    }
   ],
   "source": [
    "paramters,losses=nn_model(train_set_x,train_set_y,0.005,2000)"
   ]
  },
  {
   "cell_type": "code",
   "execution_count": 174,
   "metadata": {},
   "outputs": [
    {
     "name": "stdout",
     "output_type": "stream",
     "text": [
      "{'W1': array([[ 0.00245912,  0.00291737,  0.00644313, ...,  0.00450388,\n",
      "         0.00636115,  0.00222392],\n",
      "       [-0.00722182,  0.01621524,  0.0119877 , ...,  0.0130055 ,\n",
      "         0.01634857, -0.00079016],\n",
      "       [ 0.00308469, -0.00562523,  0.00134114, ...,  0.00596606,\n",
      "        -0.00333351,  0.00210128],\n",
      "       [ 0.01036637, -0.00880492, -0.00089921, ...,  0.00228667,\n",
      "        -0.00528014,  0.00634872]]), 'b1': array([[-0.00012921],\n",
      "       [ 0.00427648],\n",
      "       [-0.00794133],\n",
      "       [-0.01255362]]), 'W2': array([[-0.30990024, -0.63005491,  0.26523499,  0.59503678]]), 'b2': array([[-0.1122649]])}\n"
     ]
    }
   ],
   "source": [
    "print(paramters)"
   ]
  },
  {
   "cell_type": "code",
   "execution_count": 175,
   "metadata": {},
   "outputs": [
    {
     "name": "stdout",
     "output_type": "stream",
     "text": [
      "train accuracy: 88.03827751196172 %\n",
      "test accuracy: 80.0 %\n"
     ]
    }
   ],
   "source": [
    "y_prediction_train = predict(train_set_x,train_set_y,paramters)\n",
    "y_prediction_test = predict(test_set_x,test_set_y,paramters)\n",
    "print('train accuracy: {} %'.format(100-np.mean(np.abs(y_prediction_train-train_set_y))*100))\n",
    "print('test accuracy: {} %'.format(100-np.mean(np.abs(y_prediction_test-test_set_y))*100))"
   ]
  },
  {
   "cell_type": "code",
   "execution_count": 176,
   "metadata": {},
   "outputs": [
    {
     "data": {
      "text/plain": [
       "[<matplotlib.lines.Line2D at 0x1c5ab475358>]"
      ]
     },
     "execution_count": 176,
     "metadata": {},
     "output_type": "execute_result"
    },
    {
     "data": {
      "image/png": "[encoded data removed]",
      "text/plain": [
       "<Figure size 432x288 with 1 Axes>"
      ]
     },
     "metadata": {
      "needs_background": "light"
     },
     "output_type": "display_data"
    }
   ],
   "source": [
    "plt.plot(losses)"
   ]
  },
  {
   "cell_type": "code",
   "execution_count": null,
   "metadata": {},
   "outputs": [],
   "source": []
  }
 ],
 "metadata": {
  "kernelspec": {
   "display_name": "Python 3",
   "language": "python",
   "name": "python3"
  },
  "language_info": {
   "codemirror_mode": {
    "name": "ipython",
    "version": 3
   },
   "file_extension": ".py",
   "mimetype": "text/x-python",
   "name": "python",
   "nbconvert_exporter": "python",
   "pygments_lexer": "ipython3",
   "version": "3.6.8"
  }
 },
 "nbformat": 4,
 "nbformat_minor": 2
}
